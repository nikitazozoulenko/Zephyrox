{
 "cells": [
  {
   "cell_type": "code",
   "execution_count": 1,
   "metadata": {},
   "outputs": [
    {
     "name": "stderr",
     "output_type": "stream",
     "text": [
      "/home/nikita/Code/zephyrox/.conda/lib/python3.11/site-packages/tqdm/auto.py:21: TqdmWarning: IProgress not found. Please update jupyter and ipywidgets. See https://ipywidgets.readthedocs.io/en/stable/user_install.html\n",
      "  from .autonotebook import tqdm as notebook_tqdm\n"
     ]
    }
   ],
   "source": [
    "from typing import List, Dict, Set, Any, Optional, Tuple, Literal, Callable\n",
    "\n",
    "import numpy as np\n",
    "import jax\n",
    "import jax.numpy as jnp\n",
    "import jax.lax as lax\n",
    "from jaxtyping import Array, Float, Int, PRNGKeyArray\n",
    "import aeon\n",
    "\n",
    "from features.sig_trp import SigVanillaTensorizedRandProj, SigRBFTensorizedRandProj\n",
    "from features.sig import SigTransform, LogSigTransform\n",
    "from features.base import TimeseriesFeatureTransformer, TabularTimeseriesFeatures, RandomNoInformation\n",
    "from features.sig_neural import RandomizedSignature\n",
    "from utils import print_name, print_shape\n",
    "\n",
    "jax.config.update('jax_platform_name', 'gpu') # Used to set the platform (cpu, gpu, etc.)\n",
    "np.set_printoptions(precision=3, threshold=5) # Print options"
   ]
  },
  {
   "cell_type": "markdown",
   "metadata": {},
   "source": [
    "# aoen toolkit"
   ]
  },
  {
   "cell_type": "code",
   "execution_count": 2,
   "metadata": {},
   "outputs": [],
   "source": [
    "# Print the different datasets\n",
    "from aeon.datasets.tsc_datasets import multivariate, univariate, univariate_equal_length\n",
    "from aeon.datasets import load_classification\n",
    "\n",
    "def get_aeon_dataset(\n",
    "        dataset_name:str, \n",
    "        ):\n",
    "    \"\"\"Loads a dataset from the UCR/UEA archive using \n",
    "    the aeon library.\n",
    "\n",
    "    Args:\n",
    "        dataset_name (str): Name of the dataset\n",
    "\n",
    "    Returns:\n",
    "        Tuple: 4-tuple of the form (X_train, y_train, X_test, y_test)\n",
    "    \"\"\"\n",
    "    X_train, y_train = load_classification(dataset_name, split=\"train\")\n",
    "    X_test, y_test = load_classification(dataset_name, split=\"test\")\n",
    "\n",
    "    return X_train.transpose(0,2,1), y_train, X_test.transpose(0,2,1), y_test\n",
    "\n",
    "#univariate"
   ]
  },
  {
   "cell_type": "code",
   "execution_count": 3,
   "metadata": {},
   "outputs": [],
   "source": [
    "#from aeon.transformations.collection.convolution_based import MiniRocketMultivariate\n",
    "from preprocessing.timeseries_augmentation import normalize_mean_std_traindata, normalize_streams, augment_time, add_basepoint_zero\n",
    "from aeon.classification.sklearn import RotationForestClassifier\n",
    "#from sklearn.linear_model import RidgeCV\n",
    "from sklearn.metrics import accuracy_score\n",
    "import time\n",
    "\n",
    "def train_and_test(\n",
    "        dataset:str,\n",
    "        transformer:TimeseriesFeatureTransformer,\n",
    "        apply_augmentation:bool=True,\n",
    "    ):\n",
    "    train_X, train_y, test_X, test_y = get_aeon_dataset(dataset)\n",
    "    train_X, test_X = normalize_streams(train_X, test_X, max_T=1000)\n",
    "    print_name(train_X)\n",
    "    print_name(test_X)\n",
    "    # augment data\n",
    "    train_X = lax.stop_gradient(jnp.array(train_X))\n",
    "    test_X  = lax.stop_gradient(jnp.array(test_X))\n",
    "    if apply_augmentation:\n",
    "        train_X = add_basepoint_zero(train_X)\n",
    "        train_X = augment_time(train_X)\n",
    "        test_X  = add_basepoint_zero(test_X)\n",
    "        test_X  = augment_time(test_X)\n",
    "\n",
    "    # fit transformer\n",
    "    t0 = time.time()\n",
    "    transformer.fit(train_X)\n",
    "    train_X = np.array(transformer.transform(train_X))\n",
    "    test_X = np.array(transformer.transform(test_X))\n",
    "    train_X, test_X = normalize_mean_std_traindata(train_X, test_X)\n",
    "    t1 = time.time()\n",
    "    print_name(train_X)\n",
    "    print_name(test_X)\n",
    "    print(f\"Time to transform: {t1-t0} seconds\")\n",
    "\n",
    "    # train classifier      \n",
    "    clf = RotationForestClassifier()\n",
    "    clf.fit(train_X, train_y)\n",
    "    t2 = time.time()\n",
    "    print(f\"Time to fit classifier on train: {t2-t1} seconds\")\n",
    "\n",
    "    # predict\n",
    "    pred = clf.predict(test_X)\n",
    "    acc = accuracy_score(test_y, pred)\n",
    "    t3 = time.time()\n",
    "    print(f\"Time to predict: {t3-t2} seconds\")\n",
    "    print(f\"{acc} accuracy for {transformer}\")"
   ]
  },
  {
   "cell_type": "code",
   "execution_count": null,
   "metadata": {},
   "outputs": [],
   "source": [
    "train_and_test(\n",
    "    dataset=\"Adiac\",\n",
    "    transformer=SigVanillaTensorizedRandProj(\n",
    "        jax.random.PRNGKey(999),\n",
    "        n_features= 128,\n",
    "        trunc_level=5,\n",
    "        max_batch=2000,\n",
    "        )\n",
    "    )\n",
    "# 0.6086956521739131 accuracy for SigVanillaTensorizedRandProj(max_batch=10000, n_features=256,\n",
    "#                              seed=Array([  0, 999], dtype=uint32),\n",
    "#                              trunc_level=5)"
   ]
  },
  {
   "cell_type": "code",
   "execution_count": null,
   "metadata": {},
   "outputs": [],
   "source": [
    "trp_key, rbf_key = jax.random.split(jax.random.PRNGKey(999))\n",
    "\n",
    "train_and_test(\n",
    "    dataset=\"Adiac\",\n",
    "    transformer=SigRBFTensorizedRandProj(\n",
    "        trp_key,\n",
    "        rbf_key,\n",
    "        n_features= 256,\n",
    "        trunc_level=3,\n",
    "        rbf_dimension=1000,\n",
    "        max_batch=10000,\n",
    "        rff_max_batch=10000,\n",
    "        )\n",
    "    )\n",
    "# 0.6445012787723785 accuracy for SigRBFTensorizedRandProj(max_batch=10000, n_features=256, rbf_dimension=1000,\n",
    "#                          rff_max_batch=10000,\n",
    "#                          rff_seed=Array([4116651765, 1982142802], dtype=uint32),\n",
    "#                          trp_seed=Array([3655788082, 2541180754], dtype=uint32))"
   ]
  },
  {
   "cell_type": "code",
   "execution_count": null,
   "metadata": {},
   "outputs": [],
   "source": [
    "train_and_test(\n",
    "    dataset=\"Adiac\",\n",
    "    transformer=TabularTimeseriesFeatures(),\n",
    "    apply_augmentation=False\n",
    "    )\n",
    "# 0.7902813299232737 accuracy for TabularTimeseriesFeatures()"
   ]
  },
  {
   "cell_type": "code",
   "execution_count": null,
   "metadata": {},
   "outputs": [],
   "source": [
    "train_and_test(\n",
    "    dataset=\"Adiac\",\n",
    "    transformer=SigTransform(trunc_level=5),\n",
    "    ) \n",
    "# 0.5498721227621484 accuracy for SigTransform(trunc_level=5)"
   ]
  },
  {
   "cell_type": "code",
   "execution_count": null,
   "metadata": {},
   "outputs": [],
   "source": [
    "train_and_test(\n",
    "    dataset=\"Adiac\",\n",
    "    transformer=LogSigTransform(trunc_level=5),\n",
    "    ) \n",
    "# 0.4884910485933504 accuracy for LogSigTransform(trunc_level=5)\n"
   ]
  },
  {
   "cell_type": "code",
   "execution_count": null,
   "metadata": {},
   "outputs": [],
   "source": [
    "train_and_test(\n",
    "    dataset=\"Adiac\",\n",
    "    transformer=RandomizedSignature(\n",
    "        jax.random.PRNGKey(999),\n",
    "        n_features= 128,\n",
    "        max_batch=10000,\n",
    "        )\n",
    "    )\n",
    "# 0.27365728900255754 accuracy for RandomizedSignature(max_batch=10000, n_features=128,\n",
    "#                     seed=Array([  0, 999], dtype=uint32))"
   ]
  },
  {
   "cell_type": "code",
   "execution_count": null,
   "metadata": {},
   "outputs": [],
   "source": [
    "train_and_test(\n",
    "    dataset=\"Adiac\",\n",
    "    transformer=RandomNoInformation(\n",
    "        jax.random.PRNGKey(999),\n",
    "        n_features= 64,\n",
    "        )\n",
    "    )\n",
    "# 0.03324808184143223 accuracy for RandomNoInformation(n_features=64,\n",
    "#                     seed=Array([1508125853,  174035561], dtype=uint32))"
   ]
  },
  {
   "cell_type": "markdown",
   "metadata": {},
   "source": [
    "# Ridge"
   ]
  },
  {
   "cell_type": "code",
   "execution_count": 6,
   "metadata": {},
   "outputs": [],
   "source": [
    "from sklearn.linear_model import RidgeClassifierCV\n",
    "\n",
    "def train_and_test_ridge(\n",
    "        dataset:str,\n",
    "        transformer:TimeseriesFeatureTransformer,\n",
    "        apply_augmentation:bool=True,\n",
    "    ):\n",
    "    train_X, train_y, test_X, test_y = get_aeon_dataset(dataset)\n",
    "    train_X, test_X = normalize_streams(train_X, test_X, max_T=1000)\n",
    "    print_shape(train_X)\n",
    "    print_shape(test_X)\n",
    "    # augment data\n",
    "    train_X = lax.stop_gradient(jnp.array(train_X))\n",
    "    test_X  = lax.stop_gradient(jnp.array(test_X))\n",
    "    if apply_augmentation:\n",
    "        train_X = add_basepoint_zero(train_X)\n",
    "        train_X = augment_time(train_X)\n",
    "        test_X  = add_basepoint_zero(test_X)\n",
    "        test_X  = augment_time(test_X)\n",
    "\n",
    "    # fit transformer\n",
    "    t0 = time.time()\n",
    "    transformer.fit(train_X)\n",
    "    feat_train_X = np.array(transformer.transform(train_X))\n",
    "    feat_test_X = np.array(transformer.transform(test_X))\n",
    "    print(\"Before normalization:\")\n",
    "    print_name(feat_test_X)\n",
    "    feat_train_X, feat_test_X = normalize_mean_std_traindata(feat_train_X, feat_test_X)\n",
    "    t1 = time.time()\n",
    "    print(\"After normalization:\")\n",
    "    print_name(feat_test_X)\n",
    "    print(f\"Time to transform: {t1-t0} seconds\")\n",
    "\n",
    "    # train classifier      \n",
    "    clf = RidgeClassifierCV(alphas=np.logspace(-3, 3, 100))\n",
    "    clf.fit(feat_train_X, train_y)\n",
    "    t2 = time.time()\n",
    "    print(f\"Chosen alpha: {clf.alpha_}\")\n",
    "    print(f\"Time to fit classifier on train: {t2-t1} seconds\")\n",
    "\n",
    "    # predict\n",
    "    pred = clf.predict(feat_test_X)\n",
    "    print(pred)\n",
    "    acc = accuracy_score(test_y, pred)\n",
    "    t3 = time.time()\n",
    "    print(f\"Time to predict: {t3-t2} seconds\")\n",
    "    print(f\"{acc} accuracy for {transformer}\")"
   ]
  },
  {
   "cell_type": "code",
   "execution_count": 7,
   "metadata": {},
   "outputs": [
    {
     "name": "stdout",
     "output_type": "stream",
     "text": [
      "(50, 150, 1) train_X \n",
      "\n",
      "(150, 150, 1) test_X \n",
      "\n",
      "Before normalization:\n",
      "(150, 10000) feat_test_X\n",
      "[[-5.305e-04 -1.540e-02 -3.204e-02 ... -4.086e-01 -1.227e-01 -4.070e-01]\n",
      " [-4.436e-02  2.216e-01 -9.703e-02 ...  5.936e-01 -1.397e-01 -1.073e+00]\n",
      " [-1.087e-02  6.769e-01 -9.241e-01 ... -3.232e-01 -1.407e+00 -6.737e+00]\n",
      " ...\n",
      " [-2.878e-03  1.318e-01  3.847e-02 ...  2.486e-01 -7.167e-02 -5.431e-01]\n",
      " [-5.253e-03  7.485e-02 -1.062e-01 ... -9.039e-01 -3.531e-01 -1.306e+00]\n",
      " [-2.154e-03 -1.980e-03 -1.250e-01 ... -7.798e-01 -4.689e-01 -8.564e-01]] \n",
      "\n",
      "After normalization:\n",
      "(150, 10000) feat_test_X\n",
      "[[-5.305e-04 -1.540e-02 -3.204e-02 ... -4.086e-01 -1.227e-01 -4.070e-01]\n",
      " [-4.436e-02  2.216e-01 -9.703e-02 ...  5.936e-01 -1.397e-01 -1.073e+00]\n",
      " [-1.087e-02  6.769e-01 -9.241e-01 ... -3.232e-01 -1.407e+00 -6.737e+00]\n",
      " ...\n",
      " [-2.878e-03  1.318e-01  3.847e-02 ...  2.486e-01 -7.167e-02 -5.431e-01]\n",
      " [-5.253e-03  7.485e-02 -1.062e-01 ... -9.039e-01 -3.531e-01 -1.306e+00]\n",
      " [-2.154e-03 -1.980e-03 -1.250e-01 ... -7.798e-01 -4.689e-01 -8.564e-01]] \n",
      "\n",
      "Time to transform: 1.1627113819122314 seconds\n",
      "Chosen alpha: 123.28467394420659\n",
      "Time to fit classifier on train: 0.022797346115112305 seconds\n",
      "['2' '2' '2' ... '2' '2' '2']\n",
      "Time to predict: 0.0042324066162109375 seconds\n",
      "0.5133333333333333 accuracy for SigVanillaTensorizedRandProj(max_batch=20, n_features=10000,\n",
      "                             seed=Array([  0, 999], dtype=uint32))\n"
     ]
    }
   ],
   "source": [
    "train_and_test_ridge(\n",
    "    dataset=\"GunPoint\",\n",
    "    transformer=SigVanillaTensorizedRandProj(\n",
    "        jax.random.PRNGKey(999),\n",
    "        n_features= 10000,\n",
    "        trunc_level=3,\n",
    "        max_batch=20,\n",
    "        )\n",
    "    )"
   ]
  },
  {
   "cell_type": "code",
   "execution_count": null,
   "metadata": {},
   "outputs": [],
   "source": [
    "trp_key, rbf_key = jax.random.split(jax.random.PRNGKey(999))\n",
    "\n",
    "train_and_test_ridge(\n",
    "    dataset=\"GunPoint\",\n",
    "    transformer=SigRBFTensorizedRandProj(\n",
    "        trp_key,\n",
    "        rbf_key,\n",
    "        n_features= 10000,\n",
    "        trunc_level=3,\n",
    "        rbf_dimension=1000,\n",
    "        max_batch=10,\n",
    "        rff_max_batch=10000,\n",
    "        )\n",
    "    )"
   ]
  },
  {
   "cell_type": "code",
   "execution_count": null,
   "metadata": {},
   "outputs": [],
   "source": [
    "train_and_test_ridge(\n",
    "    dataset=\"GunPoint\",\n",
    "    transformer=TabularTimeseriesFeatures(),\n",
    "    apply_augmentation=False\n",
    "    )"
   ]
  },
  {
   "cell_type": "code",
   "execution_count": null,
   "metadata": {},
   "outputs": [],
   "source": [
    "train_and_test_ridge(\n",
    "    dataset=\"GunPoint\",\n",
    "    transformer=SigTransform(trunc_level=5),\n",
    "    ) "
   ]
  },
  {
   "cell_type": "code",
   "execution_count": null,
   "metadata": {},
   "outputs": [],
   "source": [
    "train_and_test_ridge(\n",
    "    dataset=\"GunPoint\",\n",
    "    transformer=LogSigTransform(trunc_level=5),\n",
    "    ) "
   ]
  },
  {
   "cell_type": "code",
   "execution_count": null,
   "metadata": {},
   "outputs": [],
   "source": [
    "train_and_test_ridge(\n",
    "    dataset=\"GunPoint\",\n",
    "    transformer=RandomizedSignature(\n",
    "        jax.random.PRNGKey(999),\n",
    "        n_features= 1000,\n",
    "        max_batch=1,\n",
    "        )\n",
    "    )"
   ]
  },
  {
   "cell_type": "code",
   "execution_count": null,
   "metadata": {},
   "outputs": [],
   "source": [
    "train_and_test_ridge(\n",
    "    dataset=\"GunPoint\",\n",
    "    transformer=RandomNoInformation()\n",
    "    )"
   ]
  }
 ],
 "metadata": {
  "kernelspec": {
   "display_name": "Python 3",
   "language": "python",
   "name": "python3"
  },
  "language_info": {
   "codemirror_mode": {
    "name": "ipython",
    "version": 3
   },
   "file_extension": ".py",
   "mimetype": "text/x-python",
   "name": "python",
   "nbconvert_exporter": "python",
   "pygments_lexer": "ipython3",
   "version": "3.11.9"
  }
 },
 "nbformat": 4,
 "nbformat_minor": 2
}
