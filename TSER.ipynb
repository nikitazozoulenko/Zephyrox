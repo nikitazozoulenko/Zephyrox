{
 "cells": [
  {
   "cell_type": "code",
   "execution_count": 1,
   "metadata": {
    "metadata": {}
   },
   "outputs": [
    {
     "name": "stderr",
     "output_type": "stream",
     "text": [
      "/home/nikita/Code/zephyrox/.conda/lib/python3.11/site-packages/tqdm/auto.py:21: TqdmWarning: IProgress not found. Please update jupyter and ipywidgets. See https://ipywidgets.readthedocs.io/en/stable/user_install.html\n",
      "  from .autonotebook import tqdm as notebook_tqdm\n"
     ]
    }
   ],
   "source": [
    "from typing import List, Dict, Set, Any, Optional, Tuple, Literal, Callable\n",
    "import time\n",
    "\n",
    "import numpy as np\n",
    "import jax\n",
    "import jax.numpy as jnp\n",
    "import jax.lax as lax\n",
    "from jaxtyping import Array, Float, Int, PRNGKeyArray\n",
    "import aeon\n",
    "import pandas as pd\n",
    "\n",
    "from features.sig_trp import SigVanillaTensorizedRandProj, SigRBFTensorizedRandProj\n",
    "from features.sig import SigTransform, LogSigTransform\n",
    "from features.base import TimeseriesFeatureTransformer, TabularTimeseriesFeatures, RandomGuesser\n",
    "from features.sig_neural import RandomizedSignature\n",
    "from utils import print_name, print_shape\n",
    "\n",
    "from preprocessing.timeseries_augmentation import normalize_mean_std_traindata, normalize_streams, augment_time, add_basepoint_zero\n",
    "from aeon.classification.sklearn import RotationForestClassifier\n",
    "from sklearn.metrics import root_mean_squared_error\n",
    "\n",
    "jax.config.update('jax_platform_name', 'cpu') # Used to set the platform (cpu, gpu, etc.)\n",
    "np.set_printoptions(precision=3, threshold=5) # Print options\n",
    "\n",
    "from aeon.datasets.tser_datasets import tser_soton\n",
    "from aeon.datasets import load_regression\n",
    "\n",
    "from sklearn.linear_model import RidgeCV\n",
    "from aeon.transformations.collection.convolution_based import Rocket, MultiRocketMultivariate, MiniRocketMultivariate\n",
    "\n",
    "from run_tser import do_experiments, get_aeon_dataset"
   ]
  },
  {
   "cell_type": "code",
   "execution_count": 2,
   "metadata": {},
   "outputs": [],
   "source": [
    "# print(len(tser_soton))\n",
    "\n",
    "# for dataset_name in list(tser_soton)[10:]:\n",
    "#     print(dataset_name)\n",
    "#     X_train, y_train, X_test, y_test = get_aeon_dataset(dataset_name)\n",
    "#     print_shape(X_train)\n",
    "#     print_name(y_train)\n",
    "#     print(\"\\n\")"
   ]
  },
  {
   "cell_type": "code",
   "execution_count": 3,
   "metadata": {},
   "outputs": [
    {
     "name": "stdout",
     "output_type": "stream",
     "text": [
      "BitcoinSentiment\n",
      "Elapsed time 11.064262390136719\n",
      "AluminiumConcentration\n"
     ]
    },
    {
     "ename": "ValueError",
     "evalue": "n_timepoints must be >= 9, but found 3; zero pad shorter series so that n_timepoints == 9",
     "output_type": "error",
     "traceback": [
      "\u001b[0;31m---------------------------------------------------------------------------\u001b[0m",
      "\u001b[0;31mValueError\u001b[0m                                Traceback (most recent call last)",
      "Cell \u001b[0;32mIn[3], line 2\u001b[0m\n\u001b[1;32m      1\u001b[0m \u001b[38;5;66;03m#run experiments\u001b[39;00m\n\u001b[0;32m----> 2\u001b[0m d_res, d_meta, d_failed \u001b[38;5;241m=\u001b[39m \u001b[43mdo_experiments\u001b[49m\u001b[43m(\u001b[49m\u001b[43m[\u001b[49m\u001b[38;5;124;43m\"\u001b[39;49m\u001b[38;5;124;43mBitcoinSentiment\u001b[39;49m\u001b[38;5;124;43m\"\u001b[39;49m\u001b[43m,\u001b[49m\u001b[43m \u001b[49m\u001b[38;5;124;43m\"\u001b[39;49m\u001b[38;5;124;43mAluminiumConcentration\u001b[39;49m\u001b[38;5;124;43m\"\u001b[39;49m\u001b[43m]\u001b[49m\u001b[43m)\u001b[49m\n\u001b[1;32m      4\u001b[0m \u001b[38;5;66;03m# make dict of results\u001b[39;00m\n\u001b[1;32m      5\u001b[0m model_names \u001b[38;5;241m=\u001b[39m d_res[\u001b[38;5;28mlist\u001b[39m(d_res\u001b[38;5;241m.\u001b[39mkeys())[\u001b[38;5;241m0\u001b[39m]][\u001b[38;5;241m0\u001b[39m][\u001b[38;5;241m0\u001b[39m]\n",
      "File \u001b[0;32m~/Code/zephyrox/run_tser.py:205\u001b[0m, in \u001b[0;36mdo_experiments\u001b[0;34m(datasets)\u001b[0m\n\u001b[1;32m    203\u001b[0m T \u001b[38;5;241m=\u001b[39m X_train\u001b[38;5;241m.\u001b[39mshape[\u001b[38;5;241m1\u001b[39m]\n\u001b[1;32m    204\u001b[0m D \u001b[38;5;241m=\u001b[39m X_train\u001b[38;5;241m.\u001b[39mshape[\u001b[38;5;241m2\u001b[39m]\n\u001b[0;32m--> 205\u001b[0m results \u001b[38;5;241m=\u001b[39m \u001b[43mrun_all_experiments\u001b[49m\u001b[43m(\u001b[49m\n\u001b[1;32m    206\u001b[0m \u001b[43m    \u001b[49m\u001b[43mX_train\u001b[49m\u001b[43m,\u001b[49m\u001b[43m \u001b[49m\u001b[43my_train\u001b[49m\u001b[43m,\u001b[49m\u001b[43m \u001b[49m\u001b[43mX_test\u001b[49m\u001b[43m,\u001b[49m\u001b[43m \u001b[49m\u001b[43my_test\u001b[49m\n\u001b[1;32m    207\u001b[0m \u001b[43m    \u001b[49m\u001b[43m)\u001b[49m\n\u001b[1;32m    208\u001b[0m experiments_metadata[dataset_name] \u001b[38;5;241m=\u001b[39m {\n\u001b[1;32m    209\u001b[0m     \u001b[38;5;124m\"\u001b[39m\u001b[38;5;124mN_train\u001b[39m\u001b[38;5;124m\"\u001b[39m: N_train,\n\u001b[1;32m    210\u001b[0m     \u001b[38;5;124m\"\u001b[39m\u001b[38;5;124mN_test\u001b[39m\u001b[38;5;124m\"\u001b[39m: N_test,\n\u001b[1;32m    211\u001b[0m     \u001b[38;5;124m\"\u001b[39m\u001b[38;5;124mT\u001b[39m\u001b[38;5;124m\"\u001b[39m: T,\n\u001b[1;32m    212\u001b[0m     \u001b[38;5;124m\"\u001b[39m\u001b[38;5;124mD\u001b[39m\u001b[38;5;124m\"\u001b[39m: D,\n\u001b[1;32m    213\u001b[0m }\n\u001b[1;32m    214\u001b[0m experiments[dataset_name] \u001b[38;5;241m=\u001b[39m results, \n",
      "File \u001b[0;32m~/Code/zephyrox/run_tser.py:178\u001b[0m, in \u001b[0;36mrun_all_experiments\u001b[0;34m(X_train, y_train, X_test, y_test)\u001b[0m\n\u001b[1;32m    176\u001b[0m \u001b[38;5;28;01mfor\u001b[39;00m name, model \u001b[38;5;129;01min\u001b[39;00m rocket_models:\n\u001b[1;32m    177\u001b[0m     model_names\u001b[38;5;241m.\u001b[39mappend(name)\n\u001b[0;32m--> 178\u001b[0m     test_rmse, train_rmse, t_trans, t_fit, t_pred, alpha \u001b[38;5;241m=\u001b[39m \u001b[43mtrain_and_test_ROCKETS\u001b[49m\u001b[43m(\u001b[49m\n\u001b[1;32m    179\u001b[0m \u001b[43m        \u001b[49m\u001b[43mX_train\u001b[49m\u001b[43m,\u001b[49m\u001b[43m \u001b[49m\u001b[43my_train\u001b[49m\u001b[43m,\u001b[49m\u001b[43m \u001b[49m\u001b[43mX_test\u001b[49m\u001b[43m,\u001b[49m\u001b[43m \u001b[49m\u001b[43my_test\u001b[49m\u001b[43m,\u001b[49m\u001b[43m \u001b[49m\u001b[43mmodel\u001b[49m\n\u001b[1;32m    180\u001b[0m \u001b[43m        \u001b[49m\u001b[43m)\u001b[49m\n\u001b[1;32m    181\u001b[0m     RMSEs_test\u001b[38;5;241m.\u001b[39mappend(test_rmse)\n\u001b[1;32m    182\u001b[0m     RMSEs_train\u001b[38;5;241m.\u001b[39mappend(train_rmse)\n",
      "File \u001b[0;32m~/Code/zephyrox/run_tser.py:106\u001b[0m, in \u001b[0;36mtrain_and_test_ROCKETS\u001b[0;34m(train_X, train_y, test_X, test_y, transformer)\u001b[0m\n\u001b[1;32m    104\u001b[0m \u001b[38;5;66;03m# fit transformer\u001b[39;00m\n\u001b[1;32m    105\u001b[0m t0 \u001b[38;5;241m=\u001b[39m time\u001b[38;5;241m.\u001b[39mtime()\n\u001b[0;32m--> 106\u001b[0m \u001b[43mtransformer\u001b[49m\u001b[38;5;241;43m.\u001b[39;49m\u001b[43mfit\u001b[49m\u001b[43m(\u001b[49m\u001b[43mtrain_X\u001b[49m\u001b[43m)\u001b[49m\n\u001b[1;32m    107\u001b[0m feat_train_X \u001b[38;5;241m=\u001b[39m np\u001b[38;5;241m.\u001b[39marray(transformer\u001b[38;5;241m.\u001b[39mtransform(train_X))\n\u001b[1;32m    108\u001b[0m feat_test_X \u001b[38;5;241m=\u001b[39m np\u001b[38;5;241m.\u001b[39marray(transformer\u001b[38;5;241m.\u001b[39mtransform(test_X))\n",
      "File \u001b[0;32m~/Code/zephyrox/.conda/lib/python3.11/site-packages/aeon/transformations/collection/base.py:88\u001b[0m, in \u001b[0;36mBaseCollectionTransformer.fit\u001b[0;34m(self, X, y)\u001b[0m\n\u001b[1;32m     86\u001b[0m X_inner \u001b[38;5;241m=\u001b[39m \u001b[38;5;28mself\u001b[39m\u001b[38;5;241m.\u001b[39m_preprocess_collection(X)\n\u001b[1;32m     87\u001b[0m y_inner \u001b[38;5;241m=\u001b[39m y\n\u001b[0;32m---> 88\u001b[0m \u001b[38;5;28;43mself\u001b[39;49m\u001b[38;5;241;43m.\u001b[39;49m\u001b[43m_fit\u001b[49m\u001b[43m(\u001b[49m\u001b[43mX\u001b[49m\u001b[38;5;241;43m=\u001b[39;49m\u001b[43mX_inner\u001b[49m\u001b[43m,\u001b[49m\u001b[43m \u001b[49m\u001b[43my\u001b[49m\u001b[38;5;241;43m=\u001b[39;49m\u001b[43my_inner\u001b[49m\u001b[43m)\u001b[49m\n\u001b[1;32m     90\u001b[0m \u001b[38;5;28mself\u001b[39m\u001b[38;5;241m.\u001b[39m_is_fitted \u001b[38;5;241m=\u001b[39m \u001b[38;5;28;01mTrue\u001b[39;00m\n\u001b[1;32m     92\u001b[0m \u001b[38;5;28;01mreturn\u001b[39;00m \u001b[38;5;28mself\u001b[39m\n",
      "File \u001b[0;32m~/Code/zephyrox/.conda/lib/python3.11/site-packages/aeon/transformations/collection/convolution_based/_minirocket_multivariate.py:108\u001b[0m, in \u001b[0;36mMiniRocketMultivariate._fit\u001b[0;34m(self, X, y)\u001b[0m\n\u001b[1;32m    106\u001b[0m \u001b[38;5;241m*\u001b[39m_, n_timepoints \u001b[38;5;241m=\u001b[39m X\u001b[38;5;241m.\u001b[39mshape\n\u001b[1;32m    107\u001b[0m \u001b[38;5;28;01mif\u001b[39;00m n_timepoints \u001b[38;5;241m<\u001b[39m \u001b[38;5;241m9\u001b[39m:\n\u001b[0;32m--> 108\u001b[0m     \u001b[38;5;28;01mraise\u001b[39;00m \u001b[38;5;167;01mValueError\u001b[39;00m(\n\u001b[1;32m    109\u001b[0m         \u001b[38;5;124mf\u001b[39m\u001b[38;5;124m\"\u001b[39m\u001b[38;5;124mn_timepoints must be >= 9, but found \u001b[39m\u001b[38;5;132;01m{\u001b[39;00mn_timepoints\u001b[38;5;132;01m}\u001b[39;00m\u001b[38;5;124m;\u001b[39m\u001b[38;5;124m\"\u001b[39m\n\u001b[1;32m    110\u001b[0m         \u001b[38;5;124m\"\u001b[39m\u001b[38;5;124m zero pad shorter series so that n_timepoints == 9\u001b[39m\u001b[38;5;124m\"\u001b[39m\n\u001b[1;32m    111\u001b[0m     )\n\u001b[1;32m    112\u001b[0m \u001b[38;5;28mself\u001b[39m\u001b[38;5;241m.\u001b[39mparameters \u001b[38;5;241m=\u001b[39m _fit_multi(\n\u001b[1;32m    113\u001b[0m     X, \u001b[38;5;28mself\u001b[39m\u001b[38;5;241m.\u001b[39mnum_kernels, \u001b[38;5;28mself\u001b[39m\u001b[38;5;241m.\u001b[39mmax_dilations_per_kernel, \u001b[38;5;28mself\u001b[39m\u001b[38;5;241m.\u001b[39mrandom_state_\n\u001b[1;32m    114\u001b[0m )\n\u001b[1;32m    115\u001b[0m \u001b[38;5;28;01mreturn\u001b[39;00m \u001b[38;5;28mself\u001b[39m\n",
      "\u001b[0;31mValueError\u001b[0m: n_timepoints must be >= 9, but found 3; zero pad shorter series so that n_timepoints == 9"
     ]
    }
   ],
   "source": [
    "#run experiments\n",
    "d_res, d_meta, d_failed = do_experiments([\"BitcoinSentiment\", \"AluminiumConcentration\"])\n",
    "\n",
    "# make dict of results\n",
    "model_names = d_res[list(d_res.keys())[0]][0][0]\n",
    "alpha_names = [\"alpha_\" + model_name for model_name in model_names]\n",
    "\n",
    "df_RMSEs_test = pd.DataFrame({dataset : RMSEs_test for dataset, ((model_names, RMSEs_test, RMSEs_train, times_trans, times_fit, alphas),) in d_res.items()}).transpose()\n",
    "df_RMSEs_test.columns = model_names\n",
    "df_RMSEs_train = pd.DataFrame({dataset : RMSEs_train for dataset, ((model_names, RMSEs_test, RMSEs_train, times_trans, times_fit, alphas),) in d_res.items()}).transpose()\n",
    "df_RMSEs_train.columns = model_names\n",
    "df_trans = pd.DataFrame({dataset : times_trans for dataset, ((model_names, RMSEs_test, RMSEs_train, times_trans, times_fit, alphas),) in d_res.items()}).transpose()\n",
    "df_trans.columns = model_names\n",
    "df_fit = pd.DataFrame({dataset : times_fit for dataset, ((model_names, RMSEs_test, RMSEs_train, times_trans, times_fit, alphas),) in d_res.items()}).transpose()\n",
    "df_fit.columns = model_names\n",
    "df_alphas = pd.DataFrame({dataset : alphas for dataset, ((model_names, RMSEs_test, RMSEs_train, times_trans, times_fit, alphas),) in d_res.items()}).transpose()\n",
    "df_alphas.columns = alpha_names\n",
    "\n",
    "meta = pd.DataFrame(d_meta).transpose()\n",
    "\n",
    "df_RMSEs_test = pd.concat([meta, df_RMSEs_test], axis=1)\n",
    "df_RMSEs_train = pd.concat([meta, df_RMSEs_train], axis=1)\n",
    "df_trans = pd.concat([meta, df_trans], axis=1)\n",
    "df_fit = pd.concat([meta, df_fit], axis=1)\n",
    "df_alphas = pd.concat([meta, df_alphas], axis=1)\n",
    "\n",
    "# save\n",
    "df_RMSEs_test.to_pickle(\"df_RMSEs_test_TSER.pkl\")\n",
    "df_RMSEs_train.to_pickle(\"df_RMSEs_train_TSER.pkl\")\n",
    "df_trans.to_pickle(\"df_trans_TSER.pkl\")\n",
    "df_fit.to_pickle(\"df_fit_TSER.pkl\")\n",
    "df_alphas.to_pickle(\"df_alphas_TSER.pkl\")\n",
    "print(d_failed)"
   ]
  },
  {
   "cell_type": "code",
   "execution_count": null,
   "metadata": {},
   "outputs": [],
   "source": [
    "df_RMSEs_test = pd.read_pickle(\"df_RMSEs_test_TSER.pkl\")\n",
    "df_RMSEs_test"
   ]
  },
  {
   "cell_type": "code",
   "execution_count": null,
   "metadata": {},
   "outputs": [],
   "source": [
    "df_RMSEs_test.mean()"
   ]
  },
  {
   "cell_type": "code",
   "execution_count": null,
   "metadata": {},
   "outputs": [],
   "source": [
    "df_RMSEs_train = pd.read_pickle(\"df_RMSEs_train_TSER.pkl\")\n",
    "df_RMSEs_train"
   ]
  },
  {
   "cell_type": "code",
   "execution_count": null,
   "metadata": {},
   "outputs": [],
   "source": [
    "df_RMSEs_train.mean()"
   ]
  },
  {
   "cell_type": "code",
   "execution_count": null,
   "metadata": {},
   "outputs": [],
   "source": [
    "df_trans = pd.read_pickle(\"df_trans_TSER.pkl\")\n",
    "df_trans"
   ]
  },
  {
   "cell_type": "code",
   "execution_count": null,
   "metadata": {},
   "outputs": [],
   "source": [
    "df_trans.mean()"
   ]
  },
  {
   "cell_type": "code",
   "execution_count": null,
   "metadata": {},
   "outputs": [],
   "source": [
    "df_fit = pd.read_pickle(\"df_fit_TSER.pkl\")\n",
    "df_fit"
   ]
  },
  {
   "cell_type": "code",
   "execution_count": null,
   "metadata": {},
   "outputs": [],
   "source": [
    "df_fit.mean()"
   ]
  },
  {
   "cell_type": "code",
   "execution_count": null,
   "metadata": {},
   "outputs": [],
   "source": [
    "df_alphas = pd.read_pickle(\"df_alphas_TSER.pkl\")\n",
    "df_alphas"
   ]
  },
  {
   "cell_type": "code",
   "execution_count": null,
   "metadata": {},
   "outputs": [],
   "source": [
    "df_alphas.mean()"
   ]
  }
 ],
 "metadata": {
  "kernelspec": {
   "display_name": "Python 3",
   "language": "python",
   "name": "python3"
  },
  "language_info": {
   "codemirror_mode": {
    "name": "ipython",
    "version": 3
   },
   "file_extension": ".py",
   "mimetype": "text/x-python",
   "name": "python",
   "nbconvert_exporter": "python",
   "pygments_lexer": "ipython3",
   "version": "3.11.9"
  }
 },
 "nbformat": 4,
 "nbformat_minor": 2
}
