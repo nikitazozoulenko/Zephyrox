{
 "cells": [
  {
   "cell_type": "code",
   "execution_count": 1,
   "metadata": {
    "metadata": {}
   },
   "outputs": [
    {
     "name": "stderr",
     "output_type": "stream",
     "text": [
      "/home/nikita/Code/zephyrox/.conda/lib/python3.11/site-packages/tqdm/auto.py:21: TqdmWarning: IProgress not found. Please update jupyter and ipywidgets. See https://ipywidgets.readthedocs.io/en/stable/user_install.html\n",
      "  from .autonotebook import tqdm as notebook_tqdm\n"
     ]
    }
   ],
   "source": [
    "from typing import List, Dict, Set, Any, Optional, Tuple, Literal, Callable\n",
    "import time\n",
    "\n",
    "import numpy as np\n",
    "import jax\n",
    "import jax.numpy as jnp\n",
    "import jax.lax as lax\n",
    "from jaxtyping import Array, Float, Int, PRNGKeyArray\n",
    "import aeon\n",
    "import pandas as pd\n",
    "\n",
    "from features.sig_trp import SigVanillaTensorizedRandProj, SigRBFTensorizedRandProj\n",
    "from features.sig import SigTransform, LogSigTransform\n",
    "from features.base import TimeseriesFeatureTransformer, TabularTimeseriesFeatures, RandomGuesser\n",
    "from features.sig_neural import RandomizedSignature\n",
    "from utils import print_name, print_shape\n",
    "\n",
    "from preprocessing.timeseries_augmentation import normalize_mean_std_traindata, normalize_streams, augment_time, add_basepoint_zero\n",
    "from aeon.regression.sklearn import RotationForestRegressor\n",
    "from sklearn.metrics import root_mean_squared_error\n",
    "\n",
    "jax.config.update('jax_platform_name', 'cpu') # Used to set the platform (cpu, gpu, etc.)\n",
    "np.set_printoptions(precision=3, threshold=5) # Print options\n",
    "\n",
    "from aeon.datasets.tser_datasets import tser_soton\n",
    "from aeon.datasets import load_regression\n",
    "\n",
    "from sklearn.linear_model import RidgeCV\n",
    "from aeon.transformations.collection.convolution_based import Rocket, MultiRocketMultivariate, MiniRocketMultivariate\n",
    "\n",
    "from run_tser import do_experiments, get_aeon_dataset"
   ]
  },
  {
   "cell_type": "code",
   "execution_count": null,
   "metadata": {},
   "outputs": [],
   "source": [
    "# print(len(tser_soton))\n",
    "\n",
    "# for dataset_name in list(tser_soton)[10:]:\n",
    "#     print(dataset_name)\n",
    "#     X_train, y_train, X_test, y_test = get_aeon_dataset(dataset_name, extract_path=\"/home/nikita/hdd/Data/TSER/\")\n",
    "#     print_shape(X_train)\n",
    "#     print_name(y_train)\n",
    "#     print(\"\\n\")"
   ]
  },
  {
   "cell_type": "markdown",
   "metadata": {},
   "source": [
    "# Load results"
   ]
  },
  {
   "cell_type": "code",
   "execution_count": null,
   "metadata": {},
   "outputs": [],
   "source": [
    "# Define the attributes and methods\n",
    "attributes = [\"RMSE_train\", \"RMSE_test\", \"time_transform\", \"time_fit\", \"alpha\"]\n",
    "methods = [\"ridge\", \"rotforest\"]\n",
    "\n",
    "# Load and store the DataFrames for each attribute and method\n",
    "dfs = {}\n",
    "for attribute in attributes:\n",
    "    for method in methods:\n",
    "        filename = f\"TESR_{attribute}_{method}_results.pkl\"\n",
    "        df = pd.read_pickle(filename)\n",
    "        dfs[(attribute, method)] = df\n",
    "\n",
    "# Access the loaded DataFrames\n",
    "# For example, to access the DataFrame for attribute \"RMSE_test\" and method \"ridge\":\n",
    "df_ridge = dfs[(\"RMSE_test\", \"ridge\")]\n",
    "        "
   ]
  },
  {
   "cell_type": "code",
   "execution_count": null,
   "metadata": {},
   "outputs": [],
   "source": [
    "dfs[(\"RMSE_test\", \"rotforest\")]"
   ]
  },
  {
   "cell_type": "code",
   "execution_count": null,
   "metadata": {},
   "outputs": [],
   "source": [
    "dfs[(\"RMSE_test\", \"ridge\")]"
   ]
  }
 ],
 "metadata": {
  "kernelspec": {
   "display_name": "Python 3",
   "language": "python",
   "name": "python3"
  },
  "language_info": {
   "codemirror_mode": {
    "name": "ipython",
    "version": 3
   },
   "file_extension": ".py",
   "mimetype": "text/x-python",
   "name": "python",
   "nbconvert_exporter": "python",
   "pygments_lexer": "ipython3",
   "version": "3.11.9"
  }
 },
 "nbformat": 4,
 "nbformat_minor": 2
}
