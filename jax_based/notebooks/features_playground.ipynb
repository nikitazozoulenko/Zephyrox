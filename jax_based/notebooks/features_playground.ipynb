{
 "cells": [
  {
   "cell_type": "code",
   "execution_count": 4,
   "metadata": {},
   "outputs": [],
   "source": [
    "from typing import Tuple, List, Union, Any, Optional, Dict, Literal, Callable\n",
    "import os\n",
    "import sys\n",
    "sys.path.append(os.path.dirname(os.getcwd()))\n",
    "sys.path.append(os.path.dirname(os.path.dirname(os.getcwd())))\n",
    "\n",
    "import numpy as np\n",
    "import jax\n",
    "import jax.numpy as jnp\n",
    "import jax.lax as lax\n",
    "from jaxtyping import Array, Float, Int\n",
    "\n",
    "from utils.utils import print_shape, print_name\n",
    "from utils.gen_data import gen_BM\n",
    "from features.sig_trp import SigVanillaTensorizedRandProj, SigRBFTensorizedRandProj\n",
    "from features.random_fourier_features import RandomFourierFeatures\n",
    "\n",
    "jax.config.update('jax_platform_name', 'cpu') # Used to set the platform (cpu, gpu, etc.)\n",
    "np.set_printoptions(precision=3, threshold=5) # Print options\n",
    "\n"
   ]
  },
  {
   "cell_type": "code",
   "execution_count": 3,
   "metadata": {},
   "outputs": [
    {
     "name": "stdout",
     "output_type": "stream",
     "text": [
      "(10, 1020) feat\n",
      "[[-0.014  0.022  0.002 ... -0.019 -0.003 -0.031]\n",
      " [-0.016  0.031 -0.01  ... -0.018  0.012  0.014]\n",
      " [-0.03   0.024  0.    ... -0.03   0.03   0.029]\n",
      " ...\n",
      " [ 0.026 -0.018 -0.025 ... -0.031 -0.031 -0.028]\n",
      " [-0.018  0.021 -0.005 ...  0.03  -0.018 -0.014]\n",
      " [ 0.014  0.006  0.03  ...  0.004  0.031  0.028]] \n",
      "\n"
     ]
    }
   ],
   "source": [
    "N=10\n",
    "D=100\n",
    "rff_dim = 1020\n",
    "seed = jax.random.PRNGKey(9999)\n",
    "X = jax.random.normal(seed, (N, D))\n",
    "\n",
    "rff = RandomFourierFeatures(seed, n_features=rff_dim, sigma=1.0, max_batch=2000)\n",
    "rff.fit(X)\n",
    "feat = rff.transform(X)\n",
    "print_name(feat)"
   ]
  },
  {
   "cell_type": "code",
   "execution_count": 5,
   "metadata": {},
   "outputs": [
    {
     "name": "stdout",
     "output_type": "stream",
     "text": [
      "(200, 2500) feat\n",
      "[[ 3.491e+00 -1.389e+00  4.524e+00 ...  3.774e+05  5.749e+06 -8.935e+06]\n",
      " [ 7.341e+00 -4.142e+00  5.985e+00 ... -3.231e+07 -8.474e+06 -1.849e+06]\n",
      " [-7.234e+00 -4.291e+00  3.824e+00 ... -2.768e+07 -4.017e+07 -1.715e+07]\n",
      " ...\n",
      " [ 8.514e-01  2.538e+00 -1.787e+00 ... -3.527e+06 -1.322e+06 -1.371e+06]\n",
      " [ 1.838e+00 -4.224e+00  4.689e+00 ... -7.838e+05  8.610e+06 -4.785e+06]\n",
      " [ 4.043e+00  5.993e+00 -4.015e+00 ...  2.302e+06  2.067e+05 -5.566e+07]] \n",
      "\n"
     ]
    }
   ],
   "source": [
    "N=200\n",
    "T=1000\n",
    "D=10\n",
    "X = gen_BM(N, T, D)\n",
    "seed = jax.random.PRNGKey(0)\n",
    "\n",
    "max_batch=10\n",
    "trunc_level=5\n",
    "n_features=500\n",
    "\n",
    "linear_trp = SigVanillaTensorizedRandProj(seed, n_features, trunc_level, max_batch)\n",
    "linear_trp.fit(X)\n",
    "feat = linear_trp.transform(X)\n",
    "print_name(feat)"
   ]
  },
  {
   "cell_type": "code",
   "execution_count": 10,
   "metadata": {},
   "outputs": [
    {
     "name": "stdout",
     "output_type": "stream",
     "text": [
      "now\n",
      "\n",
      "\n",
      "\n",
      "(100, 6000) feat\n",
      "[[-1.587e-02 -4.481e-03 -1.055e-02 ...  6.407e-01  9.482e-02  2.484e-01]\n",
      " [ 3.395e-02  1.335e-02  1.085e-02 ... -6.206e-01 -2.549e-02 -2.171e-01]\n",
      " [-8.108e-05  1.382e-02  2.019e-02 ... -4.643e-01 -9.111e-02  1.418e-01]\n",
      " ...\n",
      " [-1.968e-02 -1.603e-02 -1.636e-02 ...  1.783e-01 -2.041e-02  8.169e-02]\n",
      " [-2.829e-03 -8.637e-03 -3.370e-02 ... -3.632e-02 -8.979e-02 -6.773e-02]\n",
      " [-2.575e-02 -2.767e-02 -3.243e-02 ... -1.920e-01 -5.353e-03 -8.936e-02]] \n",
      "\n"
     ]
    }
   ],
   "source": [
    "N=100\n",
    "max_batch = 22\n",
    "\n",
    "\n",
    "T=100\n",
    "D=10\n",
    "X = gen_BM(N, T, D)\n",
    "seed = jax.random.PRNGKey(0)\n",
    "n_features = 2000\n",
    "trunc_level = 3\n",
    "rbf_dimension = 512\n",
    "sigma = 1.0\n",
    "rff_max_batch = 2000\n",
    "\n",
    "rbf_trp = SigRBFTensorizedRandProj(seed, \n",
    "                n_features, trunc_level, rbf_dimension, \n",
    "                sigma, max_batch, rff_max_batch)\n",
    "rbf_trp.fit(X)\n",
    "\n",
    "print(\"now\\n\\n\\n\")\n",
    "feat = rbf_trp.transform(X)\n",
    "print_name(feat)"
   ]
  }
 ],
 "metadata": {
  "kernelspec": {
   "display_name": "Python 3",
   "language": "python",
   "name": "python3"
  },
  "language_info": {
   "codemirror_mode": {
    "name": "ipython",
    "version": 3
   },
   "file_extension": ".py",
   "mimetype": "text/x-python",
   "name": "python",
   "nbconvert_exporter": "python",
   "pygments_lexer": "ipython3",
   "version": "3.11.9"
  }
 },
 "nbformat": 4,
 "nbformat_minor": 2
}
