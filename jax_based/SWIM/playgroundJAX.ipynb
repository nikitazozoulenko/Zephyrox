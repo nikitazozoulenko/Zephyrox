{
 "cells": [
  {
   "cell_type": "code",
   "execution_count": 24,
   "metadata": {},
   "outputs": [],
   "source": [
    "from typing import Tuple, List, Union, Any, Optional, Dict, Set, Literal, Callable\n",
    "import os\n",
    "import sys\n",
    "from functools import partial\n",
    "sys.path.append(os.path.dirname(os.getcwd()))\n",
    "sys.path.append(os.path.dirname(os.path.dirname(os.getcwd())))\n",
    "\n",
    "import numpy as np\n",
    "import jax\n",
    "import jax.numpy as jnp\n",
    "import jax.lax as lax\n",
    "from jaxtyping import Array, Float, Int, PRNGKeyArray\n",
    "from jax.random import PRNGKey\n",
    "import aeon\n",
    "import pandas as pd\n",
    "\n",
    "from features.sig_trp import SigVanillaTensorizedRandProj, SigRBFTensorizedRandProj\n",
    "from features.sig import SigTransform, LogSigTransform\n",
    "from features.base import TimeseriesFeatureTransformer, TabularTimeseriesFeatures, RandomGuesser\n",
    "from features.sig_neural import RandomizedSignature\n",
    "from utils.utils import print_name, print_shape\n",
    "from preprocessing.timeseries_augmentation import normalize_mean_std_traindata, normalize_streams, augment_time, add_basepoint_zero\n",
    "\n",
    "jax.config.update('jax_platform_name', 'cpu') # Used to set the platform (cpu, gpu, etc.)\n",
    "np.set_printoptions(precision=3, threshold=5) # Print options"
   ]
  }
 ],
 "metadata": {
  "kernelspec": {
   "display_name": "Python 3",
   "language": "python",
   "name": "python3"
  },
  "language_info": {
   "codemirror_mode": {
    "name": "ipython",
    "version": 3
   },
   "file_extension": ".py",
   "mimetype": "text/x-python",
   "name": "python",
   "nbconvert_exporter": "python",
   "pygments_lexer": "ipython3",
   "version": "3.10.14"
  }
 },
 "nbformat": 4,
 "nbformat_minor": 2
}
