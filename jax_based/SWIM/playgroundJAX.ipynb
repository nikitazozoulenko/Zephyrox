{
 "cells": [
  {
   "cell_type": "code",
   "execution_count": 2,
   "metadata": {},
   "outputs": [],
   "source": [
    "from typing import Tuple, List, Union, Any, Optional, Dict, Set, Literal, Callable\n",
    "import os\n",
    "import sys\n",
    "from functools import partial\n",
    "sys.path.append(os.path.dirname(os.getcwd()))\n",
    "sys.path.append(os.path.dirname(os.path.dirname(os.getcwd())))\n",
    "\n",
    "import numpy as np\n",
    "import jax\n",
    "import jax.numpy as jnp\n",
    "import jax.lax as lax\n",
    "from jaxtyping import Array, Float, Int, PRNGKeyArray\n",
    "from jax.random import PRNGKey\n",
    "import aeon\n",
    "import pandas as pd\n",
    "\n",
    "from features.sig_trp import SigVanillaTensorizedRandProj, SigRBFTensorizedRandProj\n",
    "from features.sig import SigTransform, LogSigTransform\n",
    "from features.base import TimeseriesFeatureTransformer, TabularTimeseriesFeatures, RandomGuesser\n",
    "from features.sig_neural import RandomizedSignature\n",
    "from utils.utils import print_name, print_shape\n",
    "from preprocessing.timeseries_augmentation import normalize_mean_std_traindata, normalize_streams, augment_time, add_basepoint_zero\n",
    "\n",
    "jax.config.update('jax_platform_name', 'cpu') # Used to set the platform (cpu, gpu, etc.)\n",
    "np.set_printoptions(precision=3, threshold=5) # Print options"
   ]
  },
  {
   "cell_type": "code",
   "execution_count": 12,
   "metadata": {},
   "outputs": [
    {
     "name": "stdout",
     "output_type": "stream",
     "text": [
      "(2, 3, 5)\n",
      "(2, 3, 5)\n",
      "(2, 3)\n"
     ]
    },
    {
     "data": {
      "text/plain": [
       "(Array([[4.997, 4.997, 4.997],\n",
       "        [4.997, 4.997, 4.997]], dtype=float64),\n",
       " None)"
      ]
     },
     "execution_count": 12,
     "metadata": {},
     "output_type": "execute_result"
    }
   ],
   "source": [
    "def _step_forward(\n",
    "        Z: Float[Array, \"N  d\"],\n",
    "        XTdiff: Float[Array, \"N  D\"],\n",
    "        A: Float[Array, \"d  d  D\"],\n",
    "        b: Float[Array, \"d  D\"],\n",
    "        activation:Callable = jnp.tanh,\n",
    "    ):\n",
    "    \"\"\"\n",
    "    Inner loop of a Controlled ResNet.\n",
    "    \"\"\"\n",
    "    Z = jnp.dot(Z, A) + b\n",
    "    Z = activation(Z) * XTdiff[:, None, :]\n",
    "    Z = Z.sum(axis=-1)\n",
    "    return Z, None\n",
    "\n",
    "N = 2\n",
    "d = 3\n",
    "D = 5\n",
    "\n",
    "Z = jnp.ones((N, d))\n",
    "A = jnp.ones((d, d, D))\n",
    "b = jnp.ones((d, D))\n",
    "XTdiff = jnp.ones((N, D))\n",
    "\n",
    "_step_forward(Z, XTdiff, A, b)\n"
   ]
  },
  {
   "cell_type": "code",
   "execution_count": 13,
   "metadata": {},
   "outputs": [
    {
     "name": "stdout",
     "output_type": "stream",
     "text": [
      "[4146024105  967050713] [2718843009 1272950319] [3746991216 1902760697] [1190051861 3378399878]\n",
      "[[2285895361 1501764800]\n",
      " [1518642379 4090693311]\n",
      " [ 433833334 4221794875]\n",
      " [ 839183663 3740430601]]\n",
      "[[2467461003  428148500]\n",
      " [3186719485 3840466878]\n",
      " [2562233961 1946702221]]\n"
     ]
    }
   ],
   "source": [
    "seed = PRNGKey(0)\n",
    "seed1, seed2 = jax.random.split(seed, 2)\n",
    "seed3, seed4 = jax.random.split(seed2, 2)\n",
    "print(seed1, seed2, seed3, seed4)\n",
    "print(jax.random.split(seed, 4))\n",
    "print(jax.random.split(seed, 3))"
   ]
  }
 ],
 "metadata": {
  "kernelspec": {
   "display_name": "Python 3",
   "language": "python",
   "name": "python3"
  },
  "language_info": {
   "codemirror_mode": {
    "name": "ipython",
    "version": 3
   },
   "file_extension": ".py",
   "mimetype": "text/x-python",
   "name": "python",
   "nbconvert_exporter": "python",
   "pygments_lexer": "ipython3",
   "version": "3.10.14"
  }
 },
 "nbformat": 4,
 "nbformat_minor": 2
}
