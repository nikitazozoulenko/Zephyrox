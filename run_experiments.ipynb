{
 "cells": [
  {
   "cell_type": "code",
   "execution_count": null,
   "metadata": {},
   "outputs": [],
   "source": [
    "from typing import List, Dict, Set, Any, Optional, Tuple, Literal, Callable\n",
    "import time\n",
    "\n",
    "import numpy as np\n",
    "import jax\n",
    "import jax.numpy as jnp\n",
    "import jax.lax as lax\n",
    "from jaxtyping import Array, Float, Int, PRNGKeyArray\n",
    "import aeon\n",
    "\n",
    "from features.sig_trp import SigVanillaTensorizedRandProj, SigRBFTensorizedRandProj\n",
    "from features.sig import SigTransform, LogSigTransform\n",
    "from features.base import TimeseriesFeatureTransformer, TabularTimeseriesFeatures, RandomGuesser\n",
    "from features.sig_neural import RandomizedSignature\n",
    "from utils import print_name, print_shape\n",
    "\n",
    "from preprocessing.timeseries_augmentation import normalize_mean_std_traindata, normalize_streams, augment_time, add_basepoint_zero\n",
    "from aeon.classification.sklearn import RotationForestClassifier\n",
    "from sklearn.metrics import accuracy_score\n",
    "\n",
    "jax.config.update('jax_platform_name', 'gpu') # Used to set the platform (cpu, gpu, etc.)\n",
    "np.set_printoptions(precision=3, threshold=5) # Print options\n",
    "\n",
    "from aeon.datasets.tsc_datasets import multivariate, univariate, univariate_equal_length\n",
    "from aeon.datasets import load_classification\n",
    "import pandas as pd"
   ]
  },
  {
   "cell_type": "markdown",
   "metadata": {},
   "source": [
    "# Univariate"
   ]
  },
  {
   "cell_type": "code",
   "execution_count": null,
   "metadata": {},
   "outputs": [],
   "source": [
    "from run_univariate import do_experiments\n",
    "\n",
    "#run experiments\n",
    "d_res, d_meta, d_failed = do_experiments([\"Adiac\", \"GunPoint\"])\n",
    "\n",
    "# make dict of results\n",
    "model_names = d_res[list(d_res.keys())[0]][0][0]\n",
    "alpha_names = [\"alpha_\" + model_name for model_name in model_names]\n",
    "df_accs = pd.DataFrame({dataset : accs for dataset, ((model_names, accs, alphas),) in d_res.items()}).transpose()\n",
    "df_accs.columns = model_names\n",
    "df_alphas = pd.DataFrame({dataset : alphas for dataset, ((model_names, accs, alphas),) in d_res.items()}).transpose()\n",
    "df_alphas.columns = alpha_names\n",
    "meta = pd.DataFrame(d_meta).transpose()\n",
    "failed = pd.DataFrame(d_failed).transpose()\n",
    "\n",
    "df_accs = pd.concat([meta, df_accs], axis=1)\n",
    "df_alphas = pd.concat([meta, df_alphas], axis=1)\n",
    "\n",
    "# save\n",
    "df_accs.to_pickle(\"df_accs_univariateTSC.pkl\")\n",
    "df_accs.to_pickle(\"df_alphas_univariateTSC.pkl\")\n",
    "df_accs.to_pickle(\"df_failed_univariateTSC.pkl\")"
   ]
  }
 ],
 "metadata": {
  "kernelspec": {
   "display_name": "Python 3",
   "language": "python",
   "name": "python3"
  },
  "language_info": {
   "codemirror_mode": {
    "name": "ipython",
    "version": 3
   },
   "file_extension": ".py",
   "mimetype": "text/x-python",
   "name": "python",
   "nbconvert_exporter": "python",
   "pygments_lexer": "ipython3",
   "version": "3.11.9"
  }
 },
 "nbformat": 4,
 "nbformat_minor": 2
}
