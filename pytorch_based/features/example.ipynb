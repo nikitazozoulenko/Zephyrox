{
 "cells": [
  {
   "cell_type": "code",
   "execution_count": 1,
   "metadata": {},
   "outputs": [],
   "source": [
    "from typing import List, Dict, Set, Any, Optional, Tuple, Literal, Callable\n",
    "import os\n",
    "import sys\n",
    "sys.path.append(os.path.dirname(os.getcwd()))\n",
    "\n",
    "from tqdm import tqdm\n",
    "import numpy as np\n",
    "import torch\n",
    "from torch import Tensor\n",
    "from kernels.static_kernels import LinearKernel, RBFKernel\n",
    "from kernels.sig_trunc import TruncSigKernel\n",
    "\n",
    "from features.random_fourier import RBF_RandomFourierFeatures\n",
    "from features.random_sig_fourier import TRP_RFSF_Gaussian, TRP_RFSF_Linear\n",
    "from features.random_warping_series import RandomWarpingSeries\n",
    "from features.signature import sig, logsig"
   ]
  },
  {
   "cell_type": "code",
   "execution_count": null,
   "metadata": {},
   "outputs": [],
   "source": [
    "# #######################\n",
    "# ######### RWS #########\n",
    "# #######################\n",
    "\n",
    "def RWS_test():\n",
    "    # Setup and parameters\n",
    "    N = 3\n",
    "    N2 = 2\n",
    "    T = 70\n",
    "    d = 2\n",
    "    dtype = torch.float32\n",
    "    #torch.manual_seed(3)\n",
    "    X = torch.randn(N, T, d, dtype=dtype).to(\"cuda\").detach()\n",
    "    Y = torch.randn(N2,T, d, dtype=dtype).to(\"cuda\").detach()\n",
    "    n_features = 20\n",
    "    D_min=2\n",
    "    D_max=5\n",
    "    sigma=1\n",
    "\n",
    "    # RWS\n",
    "    rws = RandomWarpingSeries(n_features, D_min, D_max, sigma, LinearKernel(scale=1/d/T))\n",
    "    feat_X = rws(X)\n",
    "    feat_Y = rws(Y)\n",
    "    K_rws = 1 + feat_X @ feat_Y.T\n",
    "    print(feat_X)\n",
    "    print(feat_X.shape)\n",
    "    print(K_rws)\n",
    "\n",
    "RWS_test()"
   ]
  },
  {
   "cell_type": "code",
   "execution_count": 10,
   "metadata": {},
   "outputs": [],
   "source": [
    "###############################\n",
    "#### Lib signatory wrapper ####\n",
    "###############################\n",
    "\n",
    "def test_signatory():\n",
    "    N,T,d = 1, 30, 2\n",
    "    trunc_level = 3\n",
    "    X = torch.randn(N, T, d)\n",
    "    sigs = sig(X, trunc_level) # potential unknown bug. Says imput is not 3D, but it clearly is.\n",
    "    logsigs = logsig(X, trunc_level)\n",
    "    print(\"sigs\", sigs.shape, sigs)\n",
    "    print(\"logsigs\", logsigs.shape, logsigs)\n",
    "\n",
    "# test_signatory()"
   ]
  },
  {
   "cell_type": "code",
   "execution_count": 11,
   "metadata": {},
   "outputs": [
    {
     "name": "stdout",
     "output_type": "stream",
     "text": [
      "exact\n",
      " tensor([[  1878.4482,    -74.9327],\n",
      "        [-31913.9102,   3453.7073],\n",
      "        [ -3055.4370,   -211.4108]], device='cuda:0')\n"
     ]
    },
    {
     "name": "stderr",
     "output_type": "stream",
     "text": [
      "100%|██████████| 10000/10000 [00:15<00:00, 649.39it/s]"
     ]
    },
    {
     "name": "stdout",
     "output_type": "stream",
     "text": [
      "mean\n",
      " tensor([[  1921.0502,    -57.7952],\n",
      "        [-31457.2656,   3511.3784],\n",
      "        [ -3003.9236,   -212.3938]], device='cuda:0')\n",
      "example\n",
      " tensor([[   -85.2137,   -168.0927],\n",
      "        [-10564.7783,   6568.4390],\n",
      "        [ -1389.7279,   -176.8557]], device='cuda:0')\n"
     ]
    },
    {
     "name": "stderr",
     "output_type": "stream",
     "text": [
      "\n"
     ]
    }
   ],
   "source": [
    "##########################################################\n",
    "#### Linear TRP-RFSF features  vs  Vanilla Sig kernel ####\n",
    "##########################################################\n",
    "\n",
    "def LINEAR_trp_vs_kernel():\n",
    "    #parameters\n",
    "    N = 3\n",
    "    N2 = 2\n",
    "    T = 20\n",
    "    d = 2\n",
    "    trunc_level = 5\n",
    "    n_features = 100\n",
    "    dtype = torch.float32\n",
    "    #torch.manual_seed(3)\n",
    "    X = torch.randn(N, T, d, dtype=dtype).to(\"cuda\").detach() / np.sqrt(d)\n",
    "    Y = torch.randn(N2,T, d, dtype=dtype).to(\"cuda\").detach() / np.sqrt(d)\n",
    "\n",
    "    #exact sig kernel\n",
    "    sigker = TruncSigKernel(LinearKernel(), normalize=False, trunc_level=trunc_level, geo_order=1, max_batch=50000)\n",
    "    K = sigker(X,Y)\n",
    "    print(\"exact\\n\", K)\n",
    "\n",
    "    #trp\n",
    "    MC_iter = 10000\n",
    "    res = []\n",
    "    for i in tqdm(range(MC_iter)):\n",
    "        trp = TRP_RFSF_Linear(trunc_level, n_features, only_last=True)\n",
    "        feat_X = trp(X)\n",
    "        feat_Y = trp(Y)\n",
    "        K_trp = 1 + feat_X @ feat_Y.T\n",
    "        res.append(K_trp)\n",
    "    res = torch.stack(res)\n",
    "    example = res[0]\n",
    "    mean = res.mean(dim=0)\n",
    "    print(\"mean\\n\", mean)\n",
    "    print(\"example\\n\", example)\n",
    "\n",
    "LINEAR_trp_vs_kernel()\n",
    "# exact\n",
    "#  tensor([[ 4627.0444, -5744.9629],\n",
    "#         [ 9709.9150, -7802.3965],\n",
    "#         [-1727.5579,  2563.8979]], device='cuda:0')\n",
    "# 100%|██████████| 10000/10000 [00:15<00:00, 641.01it/s] # n_features = 500, trunc_level = 5\n",
    "# mean\n",
    "#  tensor([[ 4624.3896, -5737.0781],\n",
    "#         [ 9733.1250, -7796.5479],\n",
    "#         [-1733.9088,  2575.4778]], device='cuda:0')"
   ]
  },
  {
   "cell_type": "code",
   "execution_count": 13,
   "metadata": {},
   "outputs": [
    {
     "name": "stdout",
     "output_type": "stream",
     "text": [
      "exact\n",
      " tensor([[  2.9611, -27.3819],\n",
      "        [-11.7590, -37.3600],\n",
      "        [ -1.9176,  -6.2990]], device='cuda:0')\n"
     ]
    },
    {
     "name": "stderr",
     "output_type": "stream",
     "text": [
      "100%|██████████| 10000/10000 [07:07<00:00, 23.39it/s]"
     ]
    },
    {
     "name": "stdout",
     "output_type": "stream",
     "text": [
      "mean\n",
      " tensor([[  2.9587, -27.4341],\n",
      "        [-11.7393, -37.0513],\n",
      "        [ -1.8954,  -6.3103]], device='cuda:0')\n",
      "example\n",
      " tensor([[-10.4052, -16.3350],\n",
      "        [-15.8057, -42.5761],\n",
      "        [-25.0634,  -8.4635]], device='cuda:0')\n"
     ]
    },
    {
     "name": "stderr",
     "output_type": "stream",
     "text": [
      "\n"
     ]
    }
   ],
   "source": [
    "#######################################################\n",
    "#### Gaussian TRP-RFSF features  vs  SigRBF kernel ####\n",
    "#######################################################\n",
    "\n",
    "def GAUSSIAN_trp_vs_kernel():\n",
    "    #parameters\n",
    "    N = 3\n",
    "    N2 = 2\n",
    "    T = 20\n",
    "    d = 2\n",
    "    trunc_level = 5\n",
    "    n_features = 5000\n",
    "    sigma = 1.0\n",
    "    dtype = torch.float32\n",
    "    #torch.manual_seed(3)\n",
    "    X = torch.randn(N, T, d, dtype=dtype).to(\"cuda\").detach() / np.sqrt(d)\n",
    "    Y = torch.randn(N2,T, d, dtype=dtype).to(\"cuda\").detach() / np.sqrt(d)\n",
    "\n",
    "    #exact sig kernel\n",
    "    sigker = TruncSigKernel(RBFKernel(sigma=sigma), normalize=False, trunc_level=trunc_level, geo_order=1, max_batch=50000)\n",
    "    K = sigker(X,Y)\n",
    "    print(\"exact\\n\", K)\n",
    "\n",
    "    #trp\n",
    "    MC_iter = 10000\n",
    "    res = []\n",
    "    for i in tqdm(range(MC_iter)):\n",
    "        trp = TRP_RFSF_Gaussian(trunc_level, n_features, sigma, only_last=True)\n",
    "        feat_X = trp(X)\n",
    "        feat_Y = trp(Y)\n",
    "        K_trp = 1 + feat_X @ feat_Y.T\n",
    "        res.append(K_trp)\n",
    "    res = torch.stack(res)\n",
    "    example = res[0]\n",
    "    mean = res.mean(dim=0)\n",
    "    print(\"mean\\n\", mean)\n",
    "    print(\"example\\n\", example)\n",
    "\n",
    "GAUSSIAN_trp_vs_kernel()\n",
    "# GAUSSIAN_trp_vs_kernel()\n",
    "# # exact\n",
    "# #  tensor([[ -8.7953, -30.1428],\n",
    "# #         [ -4.1622,  -4.5515],\n",
    "# #         [-25.4650,  42.8830]], device='cuda:0')\n",
    "# # 100%|██████████| 10000/10000 [05:55<00:00, 28.10it/s] # n_features=5000, trunc_level=5\n",
    "# # mean\n",
    "# #  tensor([[ -9.9236, -30.5771],\n",
    "# #         [ -4.4291,  -4.5940],\n",
    "# #         [-25.3243,  43.3625]], device='cuda:0')"
   ]
  },
  {
   "cell_type": "code",
   "execution_count": 14,
   "metadata": {},
   "outputs": [
    {
     "name": "stdout",
     "output_type": "stream",
     "text": [
      "K\n",
      " tensor([[0.7222, 0.3840],\n",
      "        [0.2072, 0.4892],\n",
      "        [0.7078, 0.2584]], device='cuda:0', dtype=torch.float64)\n",
      "K_rff\n",
      " tensor([[0.7221, 0.3844],\n",
      "        [0.2069, 0.4893],\n",
      "        [0.7078, 0.2586]], device='cuda:0', dtype=torch.float64)\n",
      "diff\n",
      " tensor([[ 1.6111e-04, -3.7687e-04],\n",
      "        [ 2.6111e-04, -4.7682e-05],\n",
      "        [-5.2112e-05, -1.3948e-04]], device='cuda:0', dtype=torch.float64)\n",
      "diffmean\n",
      " tensor(0.0002, device='cuda:0', dtype=torch.float64)\n"
     ]
    }
   ],
   "source": [
    "############################################################\n",
    "#### Test RBF_RandomFourierFeatures vs exact RBF kernel ####\n",
    "############################################################\n",
    "def rff_vs_exact_RBFKernel():\n",
    "    N=3\n",
    "    N2= 2\n",
    "    d = 10\n",
    "    sigma=1\n",
    "    dtype = torch.float64\n",
    "    # torch.manual_seed(1)\n",
    "    X = torch.randn(N, d, dtype=dtype).to(\"cuda\") /np.sqrt(d)\n",
    "    Y = torch.randn(N2, d, dtype=dtype).to(\"cuda\") / np.sqrt(d)\n",
    "\n",
    "    # Exact RBF kernel\n",
    "    k = RBFKernel(sigma=sigma)\n",
    "    K = k(X, Y)\n",
    "\n",
    "    # Approximate RBF kernel using RBF_RandomFourierFeatures\n",
    "    N_MC = 10000\n",
    "    res = []\n",
    "    for i in range(N_MC):\n",
    "        RFF = RBF_RandomFourierFeatures(n_features=1000,\n",
    "                                        sigma=sigma,\n",
    "                                        method=\"cos(x)sin(x)\",\n",
    "                                        # method = \"cos(x + b)\",\n",
    "                                        )\n",
    "        feat_X = RFF(X)\n",
    "        feat_Y = RFF(Y)\n",
    "        K_rff = feat_X @ feat_Y.T\n",
    "        res.append(K_rff)\n",
    "    K_rff = torch.mean(torch.stack(res), dim=0)\n",
    "\n",
    "    print(\"K\\n\",K)\n",
    "    print(\"K_rff\\n\",K_rff)\n",
    "    print(\"diff\\n\", K-K_rff)\n",
    "    print(\"diffmean\\n\", torch.mean(abs(K-K_rff)))\n",
    "    # the RFF approach cant reproduce results smaller than 1e-5 for some reason\n",
    "    \n",
    "rff_vs_exact_RBFKernel()"
   ]
  }
 ],
 "metadata": {
  "kernelspec": {
   "display_name": "Python 3",
   "language": "python",
   "name": "python3"
  },
  "language_info": {
   "codemirror_mode": {
    "name": "ipython",
    "version": 3
   },
   "file_extension": ".py",
   "mimetype": "text/x-python",
   "name": "python",
   "nbconvert_exporter": "python",
   "pygments_lexer": "ipython3",
   "version": "3.11.9"
  }
 },
 "nbformat": 4,
 "nbformat_minor": 2
}
