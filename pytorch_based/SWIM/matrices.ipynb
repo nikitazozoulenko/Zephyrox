{
 "cells": [
  {
   "cell_type": "code",
   "execution_count": 2,
   "metadata": {
    "metadata": {}
   },
   "outputs": [],
   "source": [
    "from typing import Tuple, List, Union, Any, Optional, Dict, Literal, Callable\n",
    "import time\n",
    "import collections\n",
    "import os\n",
    "import sys\n",
    "sys.path.append(os.path.dirname(os.getcwd()))\n",
    "sys.path.append(os.path.dirname(os.path.dirname(os.getcwd())))\n",
    "\n",
    "from tqdm import tqdm\n",
    "import numpy as np\n",
    "import torch\n",
    "import torch.nn as nn\n",
    "from torch import Tensor, tensor\n",
    "import pandas as pd\n",
    "np.set_printoptions(precision=3, threshold=5) # Print options\n",
    "\n",
    "from utils.utils import print_name, print_shape"
   ]
  },
  {
   "cell_type": "markdown",
   "metadata": {},
   "source": [
    "# Scalar case\n",
    "\n",
    "Let $r_i \\in R^d, W\\in R^{d\\times D}, \\Delta \\in R, x_i\\in R^D$ for all $i\\in[N]$. Fix regularization $\\lambda > 0$. Then the minimum of \n",
    "\\begin{align*}\n",
    "    J(\\Delta) = \\frac{1}{N} \\sum_{i=1}^N \\big\\| r_i - W\\Delta x_i \\big\\|^2 + \\lambda \\Delta^2\n",
    "\\end{align*}\n",
    "is attained at\n",
    "\\begin{align*}\n",
    "    \\Delta = \\frac{\\sum_{i=1}^N (Wx_i)^T r_i}{\\sum_{i=1}^N\\big( \\|Wx_i\\|^2 + \\lambda \\big)}\n",
    "\\end{align*}"
   ]
  },
  {
   "cell_type": "code",
   "execution_count": 286,
   "metadata": {},
   "outputs": [],
   "source": [
    "# Parameters\n",
    "d = 200\n",
    "D = 3000\n",
    "N = 1000\n",
    "lambda_reg = 10\n",
    "\n",
    "# Create dummy data\n",
    "np.random.seed(0)\n",
    "r = np.random.randn(N, d)+2\n",
    "W = np.random.randn(d, D)/100\n",
    "x = np.random.randn(N, D)-1\n",
    "\n",
    "def J(Delta):\n",
    "    Wx = W @ x.T\n",
    "    residual = r - Wx.T * Delta\n",
    "    return np.mean(np.linalg.norm(residual, axis=1)**2) + lambda_reg * Delta**2\n",
    "\n",
    "def J_byhand(Delta):\n",
    "    res = 0\n",
    "    for i in range(N):\n",
    "        res += np.linalg.norm(r[i] - W @ x[i] * Delta)**2 / N\n",
    "    return res + lambda_reg * Delta**2"
   ]
  },
  {
   "cell_type": "code",
   "execution_count": 194,
   "metadata": {},
   "outputs": [
    {
     "name": "stdout",
     "output_type": "stream",
     "text": [
      "Closed form solution for Delta: -0.1617255589180953\n",
      "Objective value for closed form solution: 998.3451788766267\n",
      "Objective value for closed form solution (by hand): 998.3451788766267\n",
      "numerator, denominator -21838.381139270066 135033.5796355476\n"
     ]
    }
   ],
   "source": [
    "from scipy.optimize import minimize\n",
    "\n",
    "# Closed form solution numpy\n",
    "Wx = W @ x.T\n",
    "numerator = np.sum(r.T * Wx)\n",
    "denominator = np.sum(np.linalg.norm(Wx, axis=0)**2  + lambda_reg) \n",
    "Delta_closed_form = numerator / denominator\n",
    "print(f\"Closed form solution for Delta: {Delta_closed_form}\")\n",
    "print(f\"Objective value for closed form solution: {J(Delta_closed_form)}\")\n",
    "print(f\"Objective value for closed form solution (by hand): {J_byhand(Delta_closed_form)}\")\n",
    "print(\"numerator, denominator\", numerator, denominator)"
   ]
  },
  {
   "cell_type": "code",
   "execution_count": 195,
   "metadata": {},
   "outputs": [
    {
     "name": "stdout",
     "output_type": "stream",
     "text": [
      "Closed form solution for Delta (by hand): -0.16172555891809537\n",
      "Objective value for closed form solution (by hand): 998.3451788766267\n",
      "Objective value for closed form solution (by hand): 998.3451788766267\n",
      "numerator, denominator -21.838381139270066 135.03357963554754\n"
     ]
    }
   ],
   "source": [
    "# Closed from solution by hand\n",
    "numerator = sum([ np.dot(W @ x[i], r[i]) for i in range(N) ])/N\n",
    "denominator = sum([ np.linalg.norm(W @ x[i])**2 for i in range(N) ])/N + lambda_reg\n",
    "Delta_by_hand = numerator / denominator\n",
    "print(f\"Closed form solution for Delta (by hand): {Delta_by_hand}\")\n",
    "print(f\"Objective value for closed form solution (by hand): {J(Delta_by_hand)}\")\n",
    "print(f\"Objective value for closed form solution (by hand): {J_byhand(Delta_by_hand)}\")\n",
    "print(\"numerator, denominator\", numerator, denominator)"
   ]
  },
  {
   "cell_type": "code",
   "execution_count": 196,
   "metadata": {},
   "outputs": [
    {
     "name": "stdout",
     "output_type": "stream",
     "text": [
      "Gradient descent solution for Delta using scipy.optimize: -0.1617255660741791\n",
      "Objective value for gradient descent solution: 998.3451788766267\n",
      "Objective value for closed form solution (by hand): 998.3451788766273\n"
     ]
    }
   ],
   "source": [
    "# Gradient descent solution using scipy.optimiz\n",
    "result = minimize(J, np.random.randn(), method='BFGS')\n",
    "Delta = result.x[0]\n",
    "print(f\"Gradient descent solution for Delta using scipy.optimize: {Delta}\")\n",
    "print(f\"Objective value for gradient descent solution: {J(Delta)}\")\n",
    "print(f\"Objective value for closed form solution (by hand): {J_byhand(Delta)}\")"
   ]
  },
  {
   "cell_type": "markdown",
   "metadata": {},
   "source": [
    "# Diagonal Case\n",
    "\n",
    "Let $r_i \\in R^d, W\\in R^{d\\times D}, \\Delta = diag(\\delta_1, ..., \\delta_D) \\in R^{D\\times D}, x_i\\in R^D$ for all $i\\in[N]$. Fix regularization $\\lambda > 0$. Then the minimum of \n",
    "\\begin{align*}\n",
    "    J(\\Delta) = \\frac{1}{N} \\sum_{i=1}^N \\big\\| r_i - W\\Delta x_i \\big\\|^2 + \\lambda \\|\\Delta\\|^2\n",
    "\\end{align*}\n",
    "is attained by solving the system of linear equations\n",
    "\\begin{align*}\n",
    "    b = (A + \\lambda I)\\Delta\n",
    "\\end{align*}\n",
    "where\n",
    "\\begin{align*}\n",
    "    A_{k,j} = \\frac{1}{N} \\sum_{i=1}^D \\big( W_k x_{i,k} \\big)^T W_j x_{i,j}\n",
    "\\end{align*}\n",
    "and\n",
    "\\begin{align*}\n",
    "    b_k = \\frac{1}{N}\\sum_{i=1}^N r_i^T W_k x_{i,k}\n",
    "\\end{align*}\n"
   ]
  },
  {
   "cell_type": "code",
   "execution_count": 335,
   "metadata": {},
   "outputs": [],
   "source": [
    "# Parameters\n",
    "d = 30\n",
    "D = 20\n",
    "N = 1000\n",
    "lambda_reg = 10\n",
    "\n",
    "# Create dummy data\n",
    "np.random.seed(0)\n",
    "r = np.random.randn(N, d)+2\n",
    "W = np.random.randn(d, D)/100\n",
    "x = np.random.randn(N, D)-1\n",
    "\n",
    "def A_byhand():\n",
    "    A = np.zeros((D, D))\n",
    "    for k in range(D):\n",
    "        for j in range(D):\n",
    "            A[k, j] = np.mean([ x[i, k] * x[i, j] * np.dot(W[:, k], W[:, j]) for i in range(N)])\n",
    "    return A\n",
    "\n",
    "\n",
    "def A():\n",
    "    return (W.T @ W) * (x.T @ x) / N\n",
    "\n",
    "\n",
    "def b_byhand():\n",
    "    b = np.zeros(D)\n",
    "    for k in range(D):\n",
    "        b[k] = np.mean([ x[i, k] * np.dot(W[:, k], r[i]) for i in range(N)])\n",
    "    return b\n",
    "\n",
    "\n",
    "def b():\n",
    "    #return np.mean( (r @ W) * x, axis=0)\n",
    "    #return np.diag(W.T @ r.T @ x) / N\n",
    "    return np.einsum('nd,dk,nk->k', r, W, x) / N"
   ]
  },
  {
   "cell_type": "code",
   "execution_count": 336,
   "metadata": {},
   "outputs": [
    {
     "data": {
      "text/plain": [
       "-9.452887691357992e-21"
      ]
     },
     "execution_count": 336,
     "metadata": {},
     "output_type": "execute_result"
    }
   ],
   "source": [
    "(A() - A_byhand()).mean()"
   ]
  },
  {
   "cell_type": "code",
   "execution_count": 337,
   "metadata": {},
   "outputs": [
    {
     "data": {
      "text/plain": [
       "5.585809592645319e-17"
      ]
     },
     "execution_count": 337,
     "metadata": {},
     "output_type": "execute_result"
    }
   ],
   "source": [
    "(b() - b_byhand()).mean()"
   ]
  },
  {
   "cell_type": "code",
   "execution_count": 338,
   "metadata": {},
   "outputs": [],
   "source": [
    "def J(Delta):\n",
    "    return np.mean(np.linalg.norm(r - x @ np.diag(Delta) @ W.T, axis=1)**2) + lambda_reg * np.linalg.norm(Delta)**2\n",
    "\n",
    "def J_byhand(Delta):\n",
    "    res = 0\n",
    "    for i in range(N):\n",
    "        res += np.linalg.norm(r[i] - W @ (Delta*x[i]))**2 / N\n",
    "    return res + lambda_reg * np.sum(Delta**2)"
   ]
  },
  {
   "cell_type": "code",
   "execution_count": 339,
   "metadata": {},
   "outputs": [
    {
     "name": "stdout",
     "output_type": "stream",
     "text": [
      "Closed form solution for Delta: [-0.005  0.011  0.011 ...  0.006  0.013  0.017]\n",
      "Objective value for closed form solution: 149.0212011905012\n",
      "Objective value for closed form solution (by hand): 149.02120119050105\n"
     ]
    }
   ],
   "source": [
    "b = np.mean( (r @ W) * x, axis=0)\n",
    "A = (W.T @ W) * (x.T @ x) / N\n",
    "Delta_closed_form = np.linalg.solve(A + lambda_reg * np.eye(D), b)\n",
    "print(f\"Closed form solution for Delta: {Delta_closed_form}\")\n",
    "print(f\"Objective value for closed form solution: {J(Delta_closed_form)}\")\n",
    "print(f\"Objective value for closed form solution (by hand): {J_byhand(Delta_closed_form)}\")"
   ]
  },
  {
   "cell_type": "code",
   "execution_count": 340,
   "metadata": {},
   "outputs": [
    {
     "name": "stdout",
     "output_type": "stream",
     "text": [
      "Gradient descent using scipy.optimize: [-0.005  0.011  0.011 ...  0.006  0.013  0.017]\n",
      "Objective value for gradient descent solution: 149.02120119051318\n",
      "Objective value for closed form solution (by hand): 149.02120119051318\n"
     ]
    }
   ],
   "source": [
    "# Gradient descent solution using scipy.optimiz\n",
    "result = minimize(J, np.random.randn(D), method='BFGS')\n",
    "Delta = result.x\n",
    "print(f\"Gradient descent using scipy.optimize: {Delta}\")\n",
    "print(f\"Objective value for gradient descent solution: {J(Delta)}\")\n",
    "print(f\"Objective value for closed form solution (by hand): {J_byhand(Delta)}\")"
   ]
  },
  {
   "cell_type": "markdown",
   "metadata": {},
   "source": [
    "# Dense Case"
   ]
  }
 ],
 "metadata": {
  "kernelspec": {
   "display_name": "Python 3",
   "language": "python",
   "name": "python3"
  },
  "language_info": {
   "codemirror_mode": {
    "name": "ipython",
    "version": 3
   },
   "file_extension": ".py",
   "mimetype": "text/x-python",
   "name": "python",
   "nbconvert_exporter": "python",
   "pygments_lexer": "ipython3",
   "version": "3.10.14"
  }
 },
 "nbformat": 4,
 "nbformat_minor": 2
}
