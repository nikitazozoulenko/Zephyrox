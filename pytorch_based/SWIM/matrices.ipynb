{
 "cells": [
  {
   "cell_type": "code",
   "execution_count": 3,
   "metadata": {
    "metadata": {}
   },
   "outputs": [],
   "source": [
    "from typing import Tuple, List, Union, Any, Optional, Dict, Literal, Callable\n",
    "import time\n",
    "import collections\n",
    "import os\n",
    "import sys\n",
    "sys.path.append(os.path.dirname(os.getcwd()))\n",
    "sys.path.append(os.path.dirname(os.path.dirname(os.getcwd())))\n",
    "\n",
    "from tqdm import tqdm\n",
    "import numpy as np\n",
    "import torch\n",
    "import torch.nn as nn\n",
    "from torch import Tensor, tensor\n",
    "import pandas as pd\n",
    "from scipy.optimize import minimize\n",
    "np.set_printoptions(precision=3, threshold=5) # Print options\n",
    "\n",
    "from utils.utils import print_name, print_shape"
   ]
  },
  {
   "cell_type": "markdown",
   "metadata": {},
   "source": [
    "# Scalar case\n",
    "\n",
    "Let $r_i \\in R^d, W\\in R^{d\\times D}, \\Delta \\in R, x_i\\in R^D$ for all $i\\in[N]$. Fix regularization $\\lambda > 0$. Then the minimum of \n",
    "\\begin{align*}\n",
    "    J(\\Delta) = \\frac{1}{N} \\sum_{i=1}^N \\big\\| r_i - W\\Delta x_i \\big\\|^2 + \\lambda \\Delta^2\n",
    "\\end{align*}\n",
    "is attained at\n",
    "\\begin{align*}\n",
    "    \\Delta = \\frac{\\sum_{i=1}^N (Wx_i)^T r_i}{\\sum_{i=1}^N\\big( \\|Wx_i\\|^2 + \\lambda \\big)}\n",
    "\\end{align*}"
   ]
  },
  {
   "cell_type": "code",
   "execution_count": 11,
   "metadata": {},
   "outputs": [],
   "source": [
    "# Parameters\n",
    "d = 200\n",
    "D = 3000\n",
    "N = 1000\n",
    "lambda_reg = 10\n",
    "\n",
    "# Create dummy data\n",
    "np.random.seed(0)\n",
    "r = np.random.randn(N, d)+2\n",
    "W = np.random.randn(d, D)/100\n",
    "x = np.random.randn(N, D)-1\n",
    "\n",
    "def J(Delta):\n",
    "    Wx = W @ x.T\n",
    "    residual = r - Wx.T * Delta\n",
    "    return np.mean(np.linalg.norm(residual, axis=1)**2) + lambda_reg * Delta**2\n",
    "\n",
    "def J_byhand(Delta):\n",
    "    res = 0\n",
    "    for i in range(N):\n",
    "        res += np.linalg.norm(r[i] - W @ x[i] * Delta)**2 / N\n",
    "    return res + lambda_reg * Delta**2"
   ]
  },
  {
   "cell_type": "code",
   "execution_count": 20,
   "metadata": {},
   "outputs": [
    {
     "name": "stdout",
     "output_type": "stream",
     "text": [
      "Closed form solution for Delta: -0.16172555891809534\n",
      "Objective value for closed form solution: 998.3451788766267\n",
      "Objective value for closed form solution (by hand): 998.3451788766267\n",
      "numerator, denominator -21.838381139270073 135.0335796355476\n"
     ]
    }
   ],
   "source": [
    "# Closed form solution numpy\n",
    "Wx = W @ x.T\n",
    "numerator = np.sum(r.T * Wx / N)\n",
    "denominator = np.sum(Wx * Wx / N) + lambda_reg \n",
    "Delta_closed_form = numerator / denominator\n",
    "print(f\"Closed form solution for Delta: {Delta_closed_form}\")\n",
    "print(f\"Objective value for closed form solution: {J(Delta_closed_form)}\")\n",
    "print(f\"Objective value for closed form solution (by hand): {J_byhand(Delta_closed_form)}\")\n",
    "print(\"numerator, denominator\", numerator, denominator)"
   ]
  },
  {
   "cell_type": "code",
   "execution_count": 195,
   "metadata": {},
   "outputs": [
    {
     "name": "stdout",
     "output_type": "stream",
     "text": [
      "Closed form solution for Delta (by hand): -0.16172555891809537\n",
      "Objective value for closed form solution (by hand): 998.3451788766267\n",
      "Objective value for closed form solution (by hand): 998.3451788766267\n",
      "numerator, denominator -21.838381139270066 135.03357963554754\n"
     ]
    }
   ],
   "source": [
    "# Closed from solution by hand\n",
    "numerator = sum([ np.dot(W @ x[i], r[i]) for i in range(N) ])/N\n",
    "denominator = sum([ np.linalg.norm(W @ x[i])**2 for i in range(N) ])/N + lambda_reg\n",
    "Delta_by_hand = numerator / denominator\n",
    "print(f\"Closed form solution for Delta (by hand): {Delta_by_hand}\")\n",
    "print(f\"Objective value for closed form solution (by hand): {J(Delta_by_hand)}\")\n",
    "print(f\"Objective value for closed form solution (by hand): {J_byhand(Delta_by_hand)}\")\n",
    "print(\"numerator, denominator\", numerator, denominator)"
   ]
  },
  {
   "cell_type": "code",
   "execution_count": 196,
   "metadata": {},
   "outputs": [
    {
     "name": "stdout",
     "output_type": "stream",
     "text": [
      "Gradient descent solution for Delta using scipy.optimize: -0.1617255660741791\n",
      "Objective value for gradient descent solution: 998.3451788766267\n",
      "Objective value for closed form solution (by hand): 998.3451788766273\n"
     ]
    }
   ],
   "source": [
    "# Gradient descent solution using scipy.optimiz\n",
    "result = minimize(J, np.random.randn(), method='BFGS')\n",
    "Delta = result.x[0]\n",
    "print(f\"Gradient descent solution for Delta using scipy.optimize: {Delta}\")\n",
    "print(f\"Objective value for gradient descent solution: {J(Delta)}\")\n",
    "print(f\"Objective value for closed form solution (by hand): {J_byhand(Delta)}\")"
   ]
  },
  {
   "cell_type": "markdown",
   "metadata": {},
   "source": [
    "# Diagonal Case\n",
    "\n",
    "Let $r_i \\in R^d, W\\in R^{d\\times D}, \\Delta = diag(\\delta_1, ..., \\delta_D) \\in R^{D\\times D}, x_i\\in R^D$ for all $i\\in[N]$. Fix regularization $\\lambda > 0$. Then the minimum of \n",
    "\\begin{align*}\n",
    "    J(\\Delta) = \\frac{1}{N} \\sum_{i=1}^N \\big\\| r_i - W\\Delta x_i \\big\\|^2 + \\lambda \\|\\Delta\\|^2\n",
    "\\end{align*}\n",
    "is attained by solving the system of linear equations\n",
    "\\begin{align*}\n",
    "    b = (A + \\lambda I)\\Delta\n",
    "\\end{align*}\n",
    "where\n",
    "\\begin{align*}\n",
    "    A_{k,j} = \\frac{1}{N} \\sum_{i=1}^D \\big( W_k x_{i,k} \\big)^T W_j x_{i,j}\n",
    "\\end{align*}\n",
    "and\n",
    "\\begin{align*}\n",
    "    b_k = \\frac{1}{N}\\sum_{i=1}^N r_i^T W_k x_{i,k}\n",
    "\\end{align*}\n"
   ]
  },
  {
   "cell_type": "code",
   "execution_count": 335,
   "metadata": {},
   "outputs": [],
   "source": [
    "# Parameters\n",
    "d = 30\n",
    "D = 20\n",
    "N = 1000\n",
    "lambda_reg = 10\n",
    "\n",
    "# Create dummy data\n",
    "np.random.seed(0)\n",
    "r = np.random.randn(N, d)+2\n",
    "W = np.random.randn(d, D)/100\n",
    "x = np.random.randn(N, D)-1\n",
    "\n",
    "def A_byhand():\n",
    "    A = np.zeros((D, D))\n",
    "    for k in range(D):\n",
    "        for j in range(D):\n",
    "            A[k, j] = np.mean([ x[i, k] * x[i, j] * np.dot(W[:, k], W[:, j]) for i in range(N)])\n",
    "    return A\n",
    "\n",
    "\n",
    "def A():\n",
    "    return (W.T @ W) * (x.T @ x) / N\n",
    "\n",
    "\n",
    "def b_byhand():\n",
    "    b = np.zeros(D)\n",
    "    for k in range(D):\n",
    "        b[k] = np.mean([ x[i, k] * np.dot(W[:, k], r[i]) for i in range(N)])\n",
    "    return b\n",
    "\n",
    "\n",
    "def b():\n",
    "    #return np.mean( (r @ W) * x, axis=0)\n",
    "    #return np.diag(W.T @ r.T @ x) / N\n",
    "    return np.einsum('nd,dk,nk->k', r, W, x) / N"
   ]
  },
  {
   "cell_type": "code",
   "execution_count": 336,
   "metadata": {},
   "outputs": [
    {
     "data": {
      "text/plain": [
       "-9.452887691357992e-21"
      ]
     },
     "execution_count": 336,
     "metadata": {},
     "output_type": "execute_result"
    }
   ],
   "source": [
    "(A() - A_byhand()).mean()"
   ]
  },
  {
   "cell_type": "code",
   "execution_count": 337,
   "metadata": {},
   "outputs": [
    {
     "data": {
      "text/plain": [
       "5.585809592645319e-17"
      ]
     },
     "execution_count": 337,
     "metadata": {},
     "output_type": "execute_result"
    }
   ],
   "source": [
    "(b() - b_byhand()).mean()"
   ]
  },
  {
   "cell_type": "code",
   "execution_count": 338,
   "metadata": {},
   "outputs": [],
   "source": [
    "def J(Delta):\n",
    "    return np.mean(np.linalg.norm(r - x @ np.diag(Delta) @ W.T, axis=1)**2) + lambda_reg * np.linalg.norm(Delta)**2\n",
    "\n",
    "def J_byhand(Delta):\n",
    "    res = 0\n",
    "    for i in range(N):\n",
    "        res += np.linalg.norm(r[i] - W @ (Delta*x[i]))**2 / N\n",
    "    return res + lambda_reg * np.sum(Delta**2)"
   ]
  },
  {
   "cell_type": "code",
   "execution_count": 339,
   "metadata": {},
   "outputs": [
    {
     "name": "stdout",
     "output_type": "stream",
     "text": [
      "Closed form solution for Delta: [-0.005  0.011  0.011 ...  0.006  0.013  0.017]\n",
      "Objective value for closed form solution: 149.0212011905012\n",
      "Objective value for closed form solution (by hand): 149.02120119050105\n"
     ]
    }
   ],
   "source": [
    "b = np.mean( (r @ W) * x, axis=0)\n",
    "A = (W.T @ W) * (x.T @ x) / N\n",
    "Delta_closed_form = np.linalg.solve(A + lambda_reg * np.eye(D), b)\n",
    "print(f\"Closed form solution for Delta: {Delta_closed_form}\")\n",
    "print(f\"Objective value for closed form solution: {J(Delta_closed_form)}\")\n",
    "print(f\"Objective value for closed form solution (by hand): {J_byhand(Delta_closed_form)}\")"
   ]
  },
  {
   "cell_type": "code",
   "execution_count": 340,
   "metadata": {},
   "outputs": [
    {
     "name": "stdout",
     "output_type": "stream",
     "text": [
      "Gradient descent using scipy.optimize: [-0.005  0.011  0.011 ...  0.006  0.013  0.017]\n",
      "Objective value for gradient descent solution: 149.02120119051318\n",
      "Objective value for closed form solution (by hand): 149.02120119051318\n"
     ]
    }
   ],
   "source": [
    "# Gradient descent solution using scipy.optimiz\n",
    "result = minimize(J, np.random.randn(D), method='BFGS')\n",
    "Delta = result.x\n",
    "print(f\"Gradient descent using scipy.optimize: {Delta}\")\n",
    "print(f\"Objective value for gradient descent solution: {J(Delta)}\")\n",
    "print(f\"Objective value for closed form solution (by hand): {J_byhand(Delta)}\")"
   ]
  },
  {
   "cell_type": "markdown",
   "metadata": {},
   "source": [
    "# Dense Case\n",
    "\n",
    "Let $r_i \\in R^d, W\\in R^{d\\times p}, \\Delta = R^{p \\times D}, x_i\\in R^D$ for all $i\\in[N]$. Fix regularization $\\lambda > 0$. Then the minimum of \n",
    "\\begin{align*}\n",
    "    J(\\Delta) = \\frac{1}{N} \\sum_{i=1}^N \\big\\| r_i - W\\Delta x_i \\big\\|^2 + \\lambda \\|\\Delta\\|^2_F\n",
    "\\end{align*}\n",
    "is attained by solving the Sylvester system\n",
    "\n",
    "...\n",
    "\n"
   ]
  },
  {
   "cell_type": "code",
   "execution_count": 3,
   "metadata": {},
   "outputs": [],
   "source": [
    "# Parameters\n",
    "d = 40\n",
    "D = 50\n",
    "p = 20 \n",
    "N = 100\n",
    "lambda_reg = 0.1\n",
    "\n",
    "# Create dummy data\n",
    "np.random.seed(0)\n",
    "r = np.random.randn(N, d)+2\n",
    "W = np.random.randn(d, D)/100\n",
    "x = np.random.randn(N, p)-1\n",
    "\n",
    "def J(Delta):\n",
    "    Delta = Delta.reshape(p, D)\n",
    "    return 1/N * np.linalg.norm(W @ Delta @ x.T - r.T)**2 + lambda_reg * np.linalg.norm(Delta)**2\n",
    "\n",
    "def J_byhand(Delta):\n",
    "    Delta = Delta.reshape(p, D)\n",
    "    res = 0\n",
    "    for i in range(N):\n",
    "        res += 1/N * np.linalg.norm(r[i] - W @ Delta @ x[i])**2\n",
    "    return res + lambda_reg * np.linalg.norm(Delta)**2"
   ]
  },
  {
   "cell_type": "code",
   "execution_count": 238,
   "metadata": {},
   "outputs": [
    {
     "name": "stdout",
     "output_type": "stream",
     "text": [
      "(50, 1) (1, 40)\n",
      "(1, 50) (40, 1)\n",
      "[[2.861e-06 4.036e-06 5.400e-06 ... 7.310e-05 8.073e-05 1.658e-03]\n",
      " [9.838e-05 1.388e-04 1.857e-04 ... 2.514e-03 2.776e-03 5.703e-02]\n",
      " [3.753e-04 5.295e-04 7.084e-04 ... 9.590e-03 1.059e-02 2.176e-01]\n",
      " ...\n",
      " [1.043e-01 1.471e-01 1.968e-01 ... 2.664e+00 2.942e+00 6.044e+01]\n",
      " [1.173e-01 1.655e-01 2.214e-01 ... 2.998e+00 3.311e+00 6.801e+01]\n",
      " [1.293e-01 1.823e-01 2.440e-01 ... 3.303e+00 3.648e+00 7.493e+01]] (40, 50)\n"
     ]
    }
   ],
   "source": [
    "SW, U = np.linalg.eigh(W.T @ W)\n",
    "SX, V = np.linalg.eigh(x.T @ x)\n",
    "\n",
    "print(SX[:, None].shape, SW[None, :].shape)\n",
    "print(SX[None, :].shape, SW[:, None].shape)\n",
    "# [[ 0.032  0.04   0.044 ...  0.167  0.201  2.046]\n",
    "#  [ 0.055  0.071  0.077 ...  0.293  0.353  3.588]\n",
    "#  [ 0.067  0.085  0.093 ...  0.351  0.424  4.304]\n",
    "#  ...\n",
    "#  [ 0.119  0.151  0.165 ...  0.626  0.755  7.674]\n",
    "#  [ 0.143  0.182  0.199 ...  0.756  0.911  9.262]\n",
    "#  [ 0.207  0.263  0.288 ...  1.091  1.315 13.365]] (7, 20)\n",
    "\n",
    "# prod = SX[:, None] * SW[None, :]\n",
    "# print(prod, prod.shape)\n",
    "prod = SX[None, :] * SW[:, None]\n",
    "print(prod, prod.shape)"
   ]
  },
  {
   "cell_type": "code",
   "execution_count": 254,
   "metadata": {},
   "outputs": [],
   "source": [
    "def solution_byhand1():\n",
    "    SW, U = np.linalg.eigh(W.T @ W)\n",
    "    SX, V = np.linalg.eigh(x.T @ x)\n",
    "    \n",
    "    Delta = U.T @ W.T @ r.T @ x @ V\n",
    "    for i in range(Delta.shape[0]):\n",
    "        for j in range(Delta.shape[1]):\n",
    "            Delta[i, j] /= (N*lambda_reg + SW[i] * SX[j])\n",
    "    return U @ Delta @ V.T\n",
    "\n",
    "def solution_byhand2():\n",
    "    SW, U = np.linalg.eigh(W.T @ W)\n",
    "    SX, V = np.linalg.eigh(x.T @ x)\n",
    "    \n",
    "    Delta = U @ W.T @ r.T @ x @ V.T\n",
    "    for i in range(Delta.shape[0]):\n",
    "        for j in range(Delta.shape[1]):\n",
    "            Delta[i, j] /= (N * lambda_reg + SW[i] * SX[j])\n",
    "    return U.T @ Delta @ V\n",
    "\n",
    "def solution_byhand3():\n",
    "    Delta = W.T @ r.T @ x / N\n",
    "    SW, U = np.linalg.eigh(W.T @ W)\n",
    "    SX, V = np.linalg.eigh(x.T @ x)\n",
    "    \n",
    "    for i in range(Delta.shape[0]):\n",
    "        for j in range(Delta.shape[1]):\n",
    "            Delta[i, j] /= (N * lambda_reg + SW[i] * SX[j])\n",
    "    return Delta\n",
    "\n",
    "def solution_byhand4():\n",
    "    Delta = W.T @ r.T @ x / N\n",
    "    SW, U = np.linalg.eigh(W.T @ W)\n",
    "    SX, V = np.linalg.eigh(x.T @ x)\n",
    "    \n",
    "    for i in range(Delta.shape[0]):\n",
    "        for j in range(Delta.shape[1]):\n",
    "            Delta[i, j] /= (N * lambda_reg + U[i,i] * V[j,j])\n",
    "    return Delta\n",
    "\n",
    "def solution1():\n",
    "    SW, U = np.linalg.eigh(W.T @ W)\n",
    "    SX, V = np.linalg.eigh(x.T @ x)\n",
    "    Delta = (W.T @ r.T @ x) / (N*lambda_reg + SW[:, None] * SX[None, :])\n",
    "    return Delta\n",
    "\n",
    "def solution2():\n",
    "    SW, U = np.linalg.eigh(W.T @ W)\n",
    "    SX, V = np.linalg.eigh(x.T @ x)\n",
    "    Delta = (W.T @ r.T @ x) / (N*lambda_reg + SW[:, None] * SX[None, :])\n",
    "    return Delta\n",
    "\n",
    "def solution3():\n",
    "    SW, U = np.linalg.eigh(W.T @ W)\n",
    "    SX, V = np.linalg.eigh(x.T @ x)\n",
    "    Delta = (U.T @ W.T @ r.T @ x @ V) / (N*lambda_reg + SW[:, None]*SX[None, :])\n",
    "    return U @ Delta @ V.T\n",
    "\n",
    "def solution4():\n",
    "    SW, U = np.linalg.eigh(W.T @ W)\n",
    "    SX, V = np.linalg.eigh(x.T @ x)\n",
    "    Delta = (U.T @ W.T @ r.T @ x @ V) / (N*lambda_reg + (SW[None, :] * SX[:, None]).T)\n",
    "    return U @ Delta @ V.T"
   ]
  },
  {
   "cell_type": "code",
   "execution_count": 240,
   "metadata": {},
   "outputs": [
    {
     "data": {
      "text/plain": [
       "array([[-0.325, -0.365, -0.512, ..., -0.401, -0.309, -0.343],\n",
       "       [-1.309, -1.58 , -1.77 , ..., -1.597, -1.626, -1.566],\n",
       "       [-0.659, -0.712, -0.914, ..., -0.758, -0.678, -0.858],\n",
       "       ...,\n",
       "       [ 0.553,  0.655,  0.633, ...,  0.508,  0.396,  0.099],\n",
       "       [-0.145, -0.227, -0.193, ..., -0.186, -0.209, -0.031],\n",
       "       [ 0.606,  0.662,  0.868, ...,  0.589,  0.588,  0.08 ]])"
      ]
     },
     "execution_count": 240,
     "metadata": {},
     "output_type": "execute_result"
    }
   ],
   "source": [
    "solution1()"
   ]
  },
  {
   "cell_type": "code",
   "execution_count": 241,
   "metadata": {},
   "outputs": [
    {
     "data": {
      "text/plain": [
       "array([[-0.325, -0.365, -0.512, ..., -0.401, -0.309, -0.343],\n",
       "       [-1.309, -1.58 , -1.77 , ..., -1.597, -1.626, -1.566],\n",
       "       [-0.659, -0.712, -0.914, ..., -0.758, -0.678, -0.858],\n",
       "       ...,\n",
       "       [ 0.553,  0.655,  0.633, ...,  0.508,  0.396,  0.099],\n",
       "       [-0.145, -0.227, -0.193, ..., -0.186, -0.209, -0.031],\n",
       "       [ 0.606,  0.662,  0.868, ...,  0.589,  0.588,  0.08 ]])"
      ]
     },
     "execution_count": 241,
     "metadata": {},
     "output_type": "execute_result"
    }
   ],
   "source": [
    "solution2()"
   ]
  },
  {
   "cell_type": "code",
   "execution_count": 256,
   "metadata": {},
   "outputs": [
    {
     "data": {
      "text/plain": [
       "array([[-0.062, -0.064, -0.168, ..., -0.103,  0.007, -0.028],\n",
       "       [-0.435, -0.566, -0.628, ..., -0.6  , -0.56 , -0.512],\n",
       "       [-0.336, -0.35 , -0.484, ..., -0.391, -0.296, -0.486],\n",
       "       ...,\n",
       "       [ 0.2  ,  0.24 ,  0.186, ...,  0.231,  0.084,  0.247],\n",
       "       [ 0.059,  0.013,  0.069, ..., -0.004, -0.016,  0.017],\n",
       "       [ 0.04 ,  0.013,  0.132, ...,  0.125,  0.092, -0.011]])"
      ]
     },
     "execution_count": 256,
     "metadata": {},
     "output_type": "execute_result"
    }
   ],
   "source": [
    "solution3()"
   ]
  },
  {
   "cell_type": "code",
   "execution_count": 255,
   "metadata": {},
   "outputs": [
    {
     "data": {
      "text/plain": [
       "array([[-0.062, -0.064, -0.168, ..., -0.103,  0.007, -0.028],\n",
       "       [-0.435, -0.566, -0.628, ..., -0.6  , -0.56 , -0.512],\n",
       "       [-0.336, -0.35 , -0.484, ..., -0.391, -0.296, -0.486],\n",
       "       ...,\n",
       "       [ 0.2  ,  0.24 ,  0.186, ...,  0.231,  0.084,  0.247],\n",
       "       [ 0.059,  0.013,  0.069, ..., -0.004, -0.016,  0.017],\n",
       "       [ 0.04 ,  0.013,  0.132, ...,  0.125,  0.092, -0.011]])"
      ]
     },
     "execution_count": 255,
     "metadata": {},
     "output_type": "execute_result"
    }
   ],
   "source": [
    "solution4()"
   ]
  },
  {
   "cell_type": "code",
   "execution_count": 244,
   "metadata": {},
   "outputs": [
    {
     "data": {
      "text/plain": [
       "array([[-0.062, -0.064, -0.168, ..., -0.103,  0.007, -0.028],\n",
       "       [-0.435, -0.566, -0.628, ..., -0.6  , -0.56 , -0.512],\n",
       "       [-0.336, -0.35 , -0.484, ..., -0.391, -0.296, -0.486],\n",
       "       ...,\n",
       "       [ 0.2  ,  0.24 ,  0.186, ...,  0.231,  0.084,  0.247],\n",
       "       [ 0.059,  0.013,  0.069, ..., -0.004, -0.016,  0.017],\n",
       "       [ 0.04 ,  0.013,  0.132, ...,  0.125,  0.092, -0.011]])"
      ]
     },
     "execution_count": 244,
     "metadata": {},
     "output_type": "execute_result"
    }
   ],
   "source": [
    "solution_byhand1()"
   ]
  },
  {
   "cell_type": "code",
   "execution_count": 245,
   "metadata": {},
   "outputs": [
    {
     "data": {
      "text/plain": [
       "array([[-0.307, -0.321, -0.514, ..., -0.363, -0.331, -0.257],\n",
       "       [-1.251, -1.491, -1.793, ..., -1.507, -1.756, -1.391],\n",
       "       [-0.63 , -0.676, -0.925, ..., -0.717, -0.753, -0.794],\n",
       "       ...,\n",
       "       [ 0.532,  0.639,  0.653, ...,  0.611,  0.569,  0.643],\n",
       "       [-0.156, -0.266, -0.202, ..., -0.269, -0.279, -0.3  ],\n",
       "       [ 0.585,  0.615,  0.894, ...,  0.727,  0.85 ,  0.568]])"
      ]
     },
     "execution_count": 245,
     "metadata": {},
     "output_type": "execute_result"
    }
   ],
   "source": [
    "solution_byhand2()"
   ]
  },
  {
   "cell_type": "code",
   "execution_count": 246,
   "metadata": {},
   "outputs": [
    {
     "data": {
      "text/plain": [
       "array([[-0.003, -0.004, -0.005, ..., -0.004, -0.003, -0.003],\n",
       "       [-0.013, -0.016, -0.018, ..., -0.016, -0.016, -0.016],\n",
       "       [-0.007, -0.007, -0.009, ..., -0.008, -0.007, -0.009],\n",
       "       ...,\n",
       "       [ 0.006,  0.007,  0.006, ...,  0.005,  0.004,  0.001],\n",
       "       [-0.001, -0.002, -0.002, ..., -0.002, -0.002, -0.   ],\n",
       "       [ 0.006,  0.007,  0.009, ...,  0.006,  0.006,  0.001]])"
      ]
     },
     "execution_count": 246,
     "metadata": {},
     "output_type": "execute_result"
    }
   ],
   "source": [
    "solution_byhand3()"
   ]
  },
  {
   "cell_type": "code",
   "execution_count": 247,
   "metadata": {},
   "outputs": [
    {
     "data": {
      "text/plain": [
       "array([[-0.003, -0.004, -0.005, ..., -0.004, -0.003, -0.003],\n",
       "       [-0.013, -0.016, -0.018, ..., -0.016, -0.016, -0.016],\n",
       "       [-0.007, -0.007, -0.009, ..., -0.008, -0.007, -0.009],\n",
       "       ...,\n",
       "       [ 0.006,  0.007,  0.006, ...,  0.006,  0.005,  0.007],\n",
       "       [-0.001, -0.002, -0.002, ..., -0.002, -0.003, -0.002],\n",
       "       [ 0.006,  0.007,  0.009, ...,  0.008,  0.008,  0.007]])"
      ]
     },
     "execution_count": 247,
     "metadata": {},
     "output_type": "execute_result"
    }
   ],
   "source": [
    "solution_byhand4()"
   ]
  },
  {
   "cell_type": "code",
   "execution_count": 248,
   "metadata": {},
   "outputs": [
    {
     "name": "stdout",
     "output_type": "stream",
     "text": [
      "\n",
      " <function solution1 at 0x7febde0276d0> 574.1871589602058 574.1871589602058\n",
      "\n",
      " <function solution2 at 0x7febde025ea0> 574.1871589602058 574.1871589602058\n",
      "\n",
      " <function solution3 at 0x7febdd4b5900> 130.6662564949538 130.66625649495384\n",
      "\n",
      " <function solution4 at 0x7febdd4b52d0> 130.6662564949538 130.66625649495384\n",
      "\n",
      " <function solution_byhand1 at 0x7febde17fd90> 130.6662564949538 130.66625649495384\n",
      "\n",
      " <function solution_byhand2 at 0x7febde1db6d0> 568.6318763998942 568.6318763998942\n",
      "\n",
      " <function solution_byhand3 at 0x7febde17f880> 190.60470509609306 190.60470509609317\n",
      "\n",
      " <function solution_byhand4 at 0x7febde0263b0> 190.5014158260387 190.5014158260387\n"
     ]
    }
   ],
   "source": [
    "for fun in [solution1, solution2, solution3, solution4, solution_byhand1, solution_byhand2, solution_byhand3, solution_byhand4]:\n",
    "    Delta = fun()\n",
    "    print(f\"\\n\", fun, J(Delta), J_byhand(Delta))"
   ]
  },
  {
   "cell_type": "code",
   "execution_count": 268,
   "metadata": {},
   "outputs": [
    {
     "name": "stdout",
     "output_type": "stream",
     "text": [
      "Gradient descent using scipy.optimize: [[-5.799e-02 -7.421e-02 -1.442e-01 ... -9.546e-02  1.748e-02 -4.842e-02]\n",
      " [-4.240e-01 -5.658e-01 -6.290e-01 ... -5.985e-01 -5.315e-01 -5.069e-01]\n",
      " [-3.435e-01 -3.748e-01 -4.830e-01 ... -4.162e-01 -3.117e-01 -5.186e-01]\n",
      " ...\n",
      " [ 1.877e-01  2.190e-01  1.734e-01 ...  2.341e-01  6.366e-02  2.500e-01]\n",
      " [ 4.213e-02 -6.926e-03  7.133e-02 ... -6.568e-03 -1.144e-02 -3.270e-04]\n",
      " [ 3.629e-02 -5.874e-04  1.170e-01 ...  9.635e-02  7.097e-02 -3.768e-02]]\n",
      "Objective value for gradient descent solution: 130.75758700013705\n",
      "Objective value for closed form solution (by hand): 130.75758700013694\n"
     ]
    }
   ],
   "source": [
    "# Gradient descent solution using scipy.optimiz\n",
    "result = minimize(J, np.random.randn(p*D), method='L-BFGS-B')\n",
    "Delta = result.x.reshape(p, D)\n",
    "print(f\"Gradient descent using scipy.optimize: {Delta}\")\n",
    "print(f\"Objective value for gradient descent solution: {J(Delta)}\")\n",
    "print(f\"Objective value for closed form solution (by hand): {J_byhand(Delta)}\")"
   ]
  }
 ],
 "metadata": {
  "kernelspec": {
   "display_name": "Python 3",
   "language": "python",
   "name": "python3"
  },
  "language_info": {
   "codemirror_mode": {
    "name": "ipython",
    "version": 3
   },
   "file_extension": ".py",
   "mimetype": "text/x-python",
   "name": "python",
   "nbconvert_exporter": "python",
   "pygments_lexer": "ipython3",
   "version": "3.10.14"
  }
 },
 "nbformat": 4,
 "nbformat_minor": 2
}
