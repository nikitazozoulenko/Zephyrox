{
 "cells": [
  {
   "cell_type": "code",
   "execution_count": 1,
   "metadata": {},
   "outputs": [
    {
     "name": "stderr",
     "output_type": "stream",
     "text": [
      "/home/nikita/Code/zephyrox/.conda/lib/python3.11/site-packages/tqdm/auto.py:21: TqdmWarning: IProgress not found. Please update jupyter and ipywidgets. See https://ipywidgets.readthedocs.io/en/stable/user_install.html\n",
      "  from .autonotebook import tqdm as notebook_tqdm\n"
     ]
    }
   ],
   "source": [
    "from typing import Tuple, List, Union, Any, Optional, Dict, Literal, Callable\n",
    "\n",
    "import numpy as np\n",
    "import jax\n",
    "import jax.numpy as jnp\n",
    "import jax.lax as lax\n",
    "from jaxtyping import Array, Float, Int\n",
    "\n",
    "from utils import print_shape, print_name\n",
    "from features.sig_trp import SigVanillaTensorizedRandProj, SigRBFTensorizedRandProj\n",
    "from features.random_fourier_features import RandomFourierFeatures\n",
    "\n",
    "jax.config.update('jax_platform_name', 'cpu') # Used to set the platform (cpu, gpu, etc.)\n",
    "np.set_printoptions(precision=3, threshold=5) # Print options\n",
    "\n",
    "def gen_BM(N:int, T:int, D:int, seed=0):\n",
    "    \"\"\"\n",
    "    Generate N Brownian Motions of length T with D dimensions\n",
    "    \"\"\"\n",
    "    key = jax.random.PRNGKey(seed)\n",
    "    normal = jax.random.normal(key, (N, T, D))\n",
    "    BM = jnp.cumsum(normal, axis=1)\n",
    "    return BM"
   ]
  },
  {
   "cell_type": "code",
   "execution_count": 2,
   "metadata": {},
   "outputs": [
    {
     "name": "stdout",
     "output_type": "stream",
     "text": [
      "(10, 1020) feat\n",
      "[[-0.014  0.022  0.002 ... -0.019 -0.003 -0.031]\n",
      " [-0.016  0.031 -0.01  ... -0.018  0.012  0.014]\n",
      " [-0.03   0.024  0.    ... -0.03   0.03   0.029]\n",
      " ...\n",
      " [ 0.026 -0.018 -0.025 ... -0.031 -0.031 -0.028]\n",
      " [-0.018  0.021 -0.005 ...  0.03  -0.018 -0.014]\n",
      " [ 0.014  0.006  0.03  ...  0.004  0.031  0.028]] \n",
      "\n"
     ]
    }
   ],
   "source": [
    "N=10\n",
    "D=100\n",
    "rff_dim = 1020\n",
    "seed = jax.random.PRNGKey(9999)\n",
    "X = jax.random.normal(seed, (N, D))\n",
    "\n",
    "rff = RandomFourierFeatures(seed, n_features=rff_dim, sigma=1.0, max_batch=2000)\n",
    "rff.fit(X)\n",
    "feat = rff.transform(X)\n",
    "print_name(feat) #1.7"
   ]
  },
  {
   "cell_type": "code",
   "execution_count": 13,
   "metadata": {},
   "outputs": [
    {
     "name": "stdout",
     "output_type": "stream",
     "text": [
      "(200, 5, 500) feat\n",
      "[[[ 1.104e+00 -4.391e-01  1.431e+00 ...  1.606e+00  1.707e+00  1.224e-01]\n",
      "  [-5.010e-01 -1.444e-02 -1.178e+00 ... -1.780e+00  3.747e-01 -3.762e-01]\n",
      "  [-3.445e-01  1.319e-01 -8.764e-01 ...  3.357e-01  4.559e-01  5.116e-02]\n",
      "  [-3.039e-01  2.454e-04  4.710e-01 ... -1.177e-01 -2.809e-02 -3.352e-01]\n",
      "  [ 6.265e-02 -8.943e-02  3.847e-01 ...  4.774e-03  7.272e-02 -1.130e-01]]\n",
      "\n",
      " [[ 2.321e+00 -1.310e+00  1.892e+00 ...  1.300e-01  1.077e+00  1.461e+00]\n",
      "  [ 1.359e+00 -1.087e+00 -8.916e-01 ... -1.263e+00 -1.807e+00 -1.477e+00]\n",
      "  [-3.302e-01 -1.747e-01 -5.481e-01 ...  1.872e+00  2.270e-01  1.574e+00]\n",
      "  [-1.272e-01 -1.195e-01  1.128e-01 ...  3.480e-01 -1.876e-02 -4.041e-01]\n",
      "  [-8.540e-03 -1.342e-01  3.079e-02 ... -4.087e-01 -1.072e-01 -2.339e-02]]\n",
      "\n",
      " [[-2.288e+00 -1.357e+00  1.209e+00 ...  1.500e+00 -2.696e+00 -2.246e+00]\n",
      "  [ 9.931e-01 -1.233e+00  1.635e+00 ...  9.532e-01  7.869e-02 -6.842e-01]\n",
      "  [-7.038e-01  1.606e+00 -9.057e-01 ...  1.201e-01 -2.180e+00 -1.526e-02]\n",
      "  [ 3.296e-01 -9.708e-01  5.606e-01 ... -2.000e-01  1.060e+00 -2.252e-01]\n",
      "  [ 3.625e-02  2.746e-01  2.576e-01 ... -3.501e-01 -5.082e-01 -2.170e-01]]\n",
      "\n",
      " ...\n",
      "\n",
      " [[ 2.693e-01  8.024e-01 -5.650e-01 ...  6.885e-02  1.170e+00 -9.768e-01]\n",
      "  [-2.165e-01 -8.554e-01 -3.745e-01 ... -5.659e-01  6.582e-01  1.799e+00]\n",
      "  [ 2.380e-01 -1.491e-01 -2.172e-01 ... -3.101e-01 -5.192e-01 -1.516e-01]\n",
      "  [-1.790e-01  1.416e-01 -8.934e-02 ... -1.545e-01 -2.708e-02 -2.594e-01]\n",
      "  [-9.059e-02 -2.883e-02  3.922e-02 ... -4.461e-02 -1.672e-02 -1.734e-02]]\n",
      "\n",
      " [[ 5.813e-01 -1.336e+00  1.483e+00 ... -8.285e-03  2.830e-01  7.556e-01]\n",
      "  [ 6.500e-02 -8.921e-01  2.054e+00 ... -8.007e-01 -1.089e+00 -9.521e-02]\n",
      "  [-5.012e-02  1.149e+00 -7.631e-01 ... -3.399e-01 -2.814e-02  6.502e-03]\n",
      "  [ 3.908e-02  6.028e-01 -9.835e-01 ...  4.175e-02  3.044e-01 -5.472e-02]\n",
      "  [-8.855e-03 -8.239e-01 -7.339e-01 ... -9.915e-03  1.089e-01 -6.052e-02]]\n",
      "\n",
      " [[ 1.279e+00  1.895e+00 -1.270e+00 ... -9.084e-01  2.705e+00  2.043e+00]\n",
      "  [ 1.104e+00  1.033e-01  5.996e-01 ... -2.567e+00 -2.441e+00 -2.625e+00]\n",
      "  [ 1.989e-02 -4.007e-01 -6.747e-01 ...  1.709e+00  8.473e-01  5.334e+00]\n",
      "  [-8.769e-02  6.673e-02  2.552e-01 ...  3.207e-02 -2.947e-01 -1.074e+00]\n",
      "  [-4.515e-02  1.821e-03 -1.626e-01 ...  2.912e-02  2.614e-03 -7.040e-01]]] \n",
      "\n"
     ]
    }
   ],
   "source": [
    "N=200\n",
    "T=1000\n",
    "D=10\n",
    "X = gen_BM(N, T, D)\n",
    "seed = jax.random.PRNGKey(0)\n",
    "\n",
    "max_batch=10\n",
    "trunc_level=5\n",
    "n_features=500\n",
    "\n",
    "linear_trp = SigVanillaTensorizedRandProj(seed, n_features, trunc_level, max_batch)\n",
    "linear_trp.fit(X)\n",
    "feat = linear_trp.transform(X)\n",
    "print_name(feat) #0.3"
   ]
  },
  {
   "cell_type": "code",
   "execution_count": 4,
   "metadata": {},
   "outputs": [
    {
     "data": {
      "text/plain": [
       "(1, 30)"
      ]
     },
     "execution_count": 4,
     "metadata": {},
     "output_type": "execute_result"
    }
   ],
   "source": [
    "N = 100\n",
    "max_batch = 70\n",
    "divmod(N, max_batch)"
   ]
  },
  {
   "cell_type": "code",
   "execution_count": 5,
   "metadata": {},
   "outputs": [
    {
     "name": "stdout",
     "output_type": "stream",
     "text": [
      "now\n",
      "\n",
      "\n",
      "\n",
      "(100, 3, 2000) feat\n",
      "[[[-7.013e-04 -1.980e-04 -4.662e-04 ...  4.850e-04  1.275e-04  1.775e-04]\n",
      "  [-6.172e-06 -4.966e-06  1.112e-06 ... -1.581e-06  3.294e-07 -7.030e-06]\n",
      "  [-3.680e-09 -1.131e-08 -1.908e-09 ...  2.765e-08  4.092e-09  1.072e-08]]\n",
      "\n",
      " [[ 1.500e-03  5.899e-04  4.793e-04 ...  2.591e-04 -4.839e-04 -6.523e-04]\n",
      "  [-1.861e-05  7.011e-06 -5.312e-06 ...  1.443e-05  2.312e-07  2.029e-06]\n",
      "  [-3.934e-09  5.460e-09 -4.960e-09 ... -2.679e-08 -1.100e-09 -9.370e-09]]\n",
      "\n",
      " [[-3.583e-06  6.109e-04  8.921e-04 ...  1.699e-03 -6.375e-04  1.091e-03]\n",
      "  [-1.058e-05  9.343e-06  9.211e-06 ...  4.048e-07  4.882e-07  2.742e-06]\n",
      "  [ 1.221e-08  1.183e-08 -9.901e-09 ... -2.004e-08 -3.932e-09  6.120e-09]]\n",
      "\n",
      " ...\n",
      "\n",
      " [[-8.697e-04 -7.082e-04 -7.229e-04 ...  4.425e-04  1.014e-03  7.373e-04]\n",
      "  [-1.037e-05  3.799e-06  3.638e-07 ... -2.578e-07  3.433e-07 -3.549e-06]\n",
      "  [-4.492e-09 -4.415e-09  1.196e-09 ...  7.695e-09 -8.808e-10  3.526e-09]]\n",
      "\n",
      " [[-1.250e-04 -3.817e-04 -1.490e-03 ... -7.405e-04 -1.020e-03  7.201e-04]\n",
      "  [-1.034e-05  1.090e-06 -5.551e-06 ...  1.344e-06 -7.449e-06  5.257e-06]\n",
      "  [-4.241e-09  5.042e-09  2.478e-08 ... -1.568e-09 -3.875e-09 -2.923e-09]]\n",
      "\n",
      " [[-1.138e-03 -1.223e-03 -1.433e-03 ...  2.239e-03  5.750e-04  5.559e-04]\n",
      "  [ 1.865e-06  7.816e-07  3.993e-06 ...  7.893e-06 -1.655e-06 -3.052e-06]\n",
      "  [-1.016e-08  3.491e-09 -8.402e-09 ... -8.288e-09 -2.310e-10 -3.857e-09]]] \n",
      "\n"
     ]
    }
   ],
   "source": [
    "N=100\n",
    "max_batch = 22\n",
    "\n",
    "\n",
    "T=100\n",
    "D=10\n",
    "X = gen_BM(N, T, D)\n",
    "seed = jax.random.PRNGKey(0)\n",
    "trp_seed, rff_seed = jax.random.split(seed, 2)\n",
    "n_features = 2000\n",
    "trunc_level = 3\n",
    "rbf_dimension = 512\n",
    "sigma = 1.0\n",
    "rff_max_batch = 2000\n",
    "\n",
    "rbf_trp = SigRBFTensorizedRandProj(trp_seed, rff_seed, \n",
    "                n_features, trunc_level, rbf_dimension, \n",
    "                sigma, max_batch, rff_max_batch)\n",
    "rbf_trp.fit(X)\n",
    "\n",
    "print(\"now\\n\\n\\n\")\n",
    "feat = rbf_trp.transform(X)\n",
    "print_name(feat) #0.9"
   ]
  }
 ],
 "metadata": {
  "kernelspec": {
   "display_name": "Python 3",
   "language": "python",
   "name": "python3"
  },
  "language_info": {
   "codemirror_mode": {
    "name": "ipython",
    "version": 3
   },
   "file_extension": ".py",
   "mimetype": "text/x-python",
   "name": "python",
   "nbconvert_exporter": "python",
   "pygments_lexer": "ipython3",
   "version": "3.11.8"
  }
 },
 "nbformat": 4,
 "nbformat_minor": 2
}
