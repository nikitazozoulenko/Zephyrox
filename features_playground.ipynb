{
 "cells": [
  {
   "cell_type": "code",
   "execution_count": 1,
   "metadata": {},
   "outputs": [],
   "source": [
    "from typing import Tuple, List, Union, Any, Optional, Dict, Literal, Callable\n",
    "\n",
    "import numpy as np\n",
    "import jax\n",
    "import jax.numpy as jnp\n",
    "import jax.lax as lax\n",
    "from jaxtyping import Array, Float, Int\n",
    "\n",
    "from utils import print_shape, print_name\n",
    "from features.sig_trp import SigVanillaTensorizedRandProj, SigRBFTensorizedRandProj\n",
    "from features.random_fourier_features import RandomFourierFeatures\n",
    "\n",
    "jax.config.update('jax_platform_name', 'gpu') # Used to set the platform (cpu, gpu, etc.)\n",
    "np.set_printoptions(precision=3, threshold=5) # Print options\n",
    "\n",
    "def gen_BM(N:int, T:int, D:int, seed=0):\n",
    "    \"\"\"\n",
    "    Generate N Brownian Motions of length T with D dimensions\n",
    "    \"\"\"\n",
    "    key = jax.random.PRNGKey(seed)\n",
    "    normal = jax.random.normal(key, (N, T, D))\n",
    "    BM = jnp.cumsum(normal, axis=1)\n",
    "    return BM"
   ]
  },
  {
   "cell_type": "code",
   "execution_count": null,
   "metadata": {},
   "outputs": [],
   "source": [
    "N=10\n",
    "D=100\n",
    "rff_dim = 1000\n",
    "seed = jax.random.PRNGKey(9999)\n",
    "X = jax.random.normal(seed, (N, D))\n",
    "\n",
    "rff = RandomFourierFeatures(seed, n_features=rff_dim, sigma=1.0, max_batch=2000)\n",
    "rff.fit(X)\n",
    "feat = rff.transform(X)\n",
    "print_name(feat)"
   ]
  },
  {
   "cell_type": "code",
   "execution_count": 2,
   "metadata": {},
   "outputs": [
    {
     "name": "stdout",
     "output_type": "stream",
     "text": [
      "(20, 5, 2000) feat\n",
      "[[[-5.194e-02 -2.418e-01  1.791e-01 ... -2.623e-01 -9.626e-02 -2.038e-01]\n",
      "  [ 5.131e-03 -6.003e-02 -2.472e-02 ... -3.565e-02  1.808e-02 -8.411e-03]\n",
      "  [ 2.400e-04 -1.489e-03  8.551e-04 ...  1.097e-03  3.647e-04 -1.172e-03]\n",
      "  [-1.290e-05 -1.326e-04 -2.311e-04 ...  1.547e-04 -1.081e-04  4.824e-05]\n",
      "  [ 6.825e-06 -1.684e-05 -1.880e-06 ...  5.406e-06 -2.249e-05  3.847e-06]]\n",
      "\n",
      " [[ 2.753e-01  5.542e-02 -2.051e-01 ... -6.964e-02  3.774e-02 -3.913e-01]\n",
      "  [ 5.316e-02 -7.530e-03  9.990e-03 ...  2.330e-02 -2.055e-02  1.016e-02]\n",
      "  [-5.522e-03 -1.577e-03  1.632e-04 ... -9.823e-04  4.257e-03  9.048e-03]\n",
      "  [-2.558e-05 -1.106e-04 -1.003e-04 ...  1.471e-04  3.109e-05  8.953e-04]\n",
      "  [-1.180e-05  1.627e-05 -8.178e-07 ... -2.812e-05  4.647e-05 -5.969e-05]]\n",
      "\n",
      " [[-6.139e-02 -3.341e-02 -1.820e-01 ...  7.483e-02  1.969e-01 -2.451e-01]\n",
      "  [-6.863e-03  2.181e-03  4.595e-03 ...  1.232e-03  3.001e-02  1.862e-02]\n",
      "  [ 7.598e-05 -1.926e-04  3.049e-04 ... -1.042e-03 -1.336e-03  9.122e-05]\n",
      "  [-1.104e-05 -5.192e-06 -9.407e-05 ...  9.641e-05 -1.185e-04  3.694e-04]\n",
      "  [-4.204e-06 -2.150e-07  3.234e-06 ... -6.788e-06 -1.922e-05 -1.382e-06]]\n",
      "\n",
      " ...\n",
      "\n",
      " [[-4.507e-02  4.001e-01 -1.335e-01 ... -2.657e-01  3.076e-01 -9.621e-02]\n",
      "  [ 1.603e-03  7.141e-02 -1.104e-02 ... -6.567e-02 -1.602e-02 -1.128e-03]\n",
      "  [ 3.965e-04 -2.887e-03 -4.530e-03 ...  3.547e-04  1.750e-04 -1.134e-03]\n",
      "  [-1.017e-04 -2.412e-04  5.945e-04 ... -5.784e-04  9.180e-05 -4.808e-05]\n",
      "  [ 1.408e-05 -2.234e-05 -2.845e-05 ...  2.471e-07  1.128e-05 -6.927e-07]]\n",
      "\n",
      " [[ 2.093e-01 -1.187e-01  3.444e-02 ... -8.466e-02 -2.019e-01 -6.160e-02]\n",
      "  [ 9.062e-03 -7.492e-02 -1.020e-02 ... -2.443e-02 -1.927e-02  3.207e-03]\n",
      "  [-1.885e-03 -1.188e-02  1.670e-03 ...  8.127e-04  4.404e-04  2.898e-03]\n",
      "  [ 1.779e-04 -7.812e-04 -6.780e-04 ...  7.775e-05 -1.016e-04  6.708e-04]\n",
      "  [-6.485e-05  1.339e-04  1.074e-04 ...  8.048e-05 -3.501e-06  3.097e-05]]\n",
      "\n",
      " [[ 1.244e-01  3.209e-01 -1.536e-01 ... -9.286e-02  2.425e-01 -1.645e-01]\n",
      "  [ 1.181e-02 -5.947e-03  1.117e-02 ...  7.997e-03 -7.811e-03 -1.157e-02]\n",
      "  [ 2.147e-04  3.183e-03 -1.661e-04 ...  1.988e-03 -7.863e-05 -3.629e-03]\n",
      "  [ 1.300e-04 -1.704e-05 -3.010e-04 ... -1.886e-04  3.044e-04 -3.467e-04]\n",
      "  [-7.070e-06 -1.218e-05  8.324e-06 ... -1.347e-05  3.248e-05 -4.582e-05]]] \n",
      "\n"
     ]
    }
   ],
   "source": [
    "N=20\n",
    "T=100\n",
    "D=10\n",
    "X = gen_BM(N, T, D)\n",
    "seed = jax.random.PRNGKey(0)\n",
    "\n",
    "linear_trp = SigVanillaTensorizedRandProj(seed, n_features=2000, trunc_level=5,\n",
    "                                   max_batch=10)\n",
    "linear_trp.fit(X)\n",
    "feat = linear_trp.transform(X)\n",
    "print_name(feat)"
   ]
  },
  {
   "cell_type": "code",
   "execution_count": 7,
   "metadata": {},
   "outputs": [
    {
     "name": "stdout",
     "output_type": "stream",
     "text": [
      "(20, 3, 512) feat\n",
      "[[[-2.449e-02 -3.868e-02 -1.076e-02 ... -5.431e-03  1.162e-02 -3.877e-03]\n",
      "  [ 2.404e-04  4.441e-04  3.636e-04 ... -3.433e-04 -3.455e-04  7.852e-04]\n",
      "  [ 7.113e-07 -2.158e-05 -3.006e-05 ... -1.651e-06 -8.906e-06  5.273e-05]]\n",
      "\n",
      " [[-1.153e-02  1.172e-02  4.146e-02 ... -6.604e-03 -1.676e-02  1.323e-02]\n",
      "  [-7.761e-04 -6.656e-05  4.034e-05 ... -4.193e-04 -7.240e-05 -8.330e-04]\n",
      "  [ 1.489e-05  7.772e-06 -8.273e-06 ...  2.521e-06 -1.529e-05  3.347e-05]]\n",
      "\n",
      " [[-7.163e-03  2.229e-02 -2.570e-02 ... -6.341e-03  2.897e-02  2.676e-02]\n",
      "  [ 2.963e-04 -4.584e-04 -7.687e-04 ...  9.799e-04  8.406e-04  6.755e-04]\n",
      "  [-8.818e-06 -5.723e-06 -5.069e-06 ...  5.809e-06  1.341e-05 -6.862e-07]]\n",
      "\n",
      " ...\n",
      "\n",
      " [[ 2.772e-02 -1.039e-02 -2.869e-02 ... -7.390e-02 -7.315e-03 -2.296e-02]\n",
      "  [ 3.872e-04 -1.823e-05  5.722e-04 ... -2.004e-03 -1.039e-03 -7.782e-04]\n",
      "  [ 2.375e-05 -2.024e-06 -4.394e-05 ...  5.154e-05 -1.027e-05  9.133e-06]]\n",
      "\n",
      " [[ 3.097e-02  4.805e-03 -6.746e-03 ...  2.390e-02 -3.228e-03  1.563e-03]\n",
      "  [-2.183e-04 -3.097e-04  3.871e-04 ... -5.367e-05 -1.105e-03 -1.578e-03]\n",
      "  [ 7.093e-06  7.713e-06  4.105e-07 ...  5.907e-06 -2.199e-05  1.244e-05]]\n",
      "\n",
      " [[ 1.005e-03 -2.380e-02  1.511e-02 ... -2.794e-02  1.830e-02  6.917e-03]\n",
      "  [ 4.133e-04  2.732e-04 -1.987e-04 ...  8.082e-04  8.504e-05  6.107e-04]\n",
      "  [ 8.897e-06  6.236e-06 -9.912e-06 ...  9.123e-06 -9.255e-06 -8.688e-06]]] \n",
      "\n"
     ]
    }
   ],
   "source": [
    "N=20\n",
    "T=100\n",
    "D=10\n",
    "X = gen_BM(N, T, D)\n",
    "seed = jax.random.PRNGKey(0)\n",
    "trp_seed, rff_seed = jax.random.split(seed, 2)\n",
    "n_features = 200\n",
    "trunc_level = 3\n",
    "rbf_dimension = 512\n",
    "sigma = 1.0\n",
    "max_batch = 128\n",
    "rff_max_batch = 2000\n",
    "\n",
    "rbf_trp = SigRBFTensorizedRandProj(trp_seed, rff_seed, \n",
    "                n_features, trunc_level, rbf_dimension, \n",
    "                sigma, max_batch, rff_max_batch)\n",
    "rbf_trp.fit(X)\n",
    "feat = rbf_trp.transform(X)\n",
    "print_name(feat)"
   ]
  }
 ],
 "metadata": {
  "kernelspec": {
   "display_name": "Python 3",
   "language": "python",
   "name": "python3"
  },
  "language_info": {
   "codemirror_mode": {
    "name": "ipython",
    "version": 3
   },
   "file_extension": ".py",
   "mimetype": "text/x-python",
   "name": "python",
   "nbconvert_exporter": "python",
   "pygments_lexer": "ipython3",
   "version": "3.11.8"
  }
 },
 "nbformat": 4,
 "nbformat_minor": 2
}
