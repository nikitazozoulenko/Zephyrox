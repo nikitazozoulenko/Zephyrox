{
 "cells": [
  {
   "cell_type": "code",
   "execution_count": null,
   "metadata": {},
   "outputs": [],
   "source": [
    "from typing import Tuple, List, Union, Any, Optional, Dict, Literal, Callable\n",
    "\n",
    "import numpy as np\n",
    "import jax\n",
    "import jax.numpy as jnp\n",
    "import jax.lax as lax\n",
    "from jaxtyping import Array, Float, Int\n",
    "\n",
    "from utils import print_shape, print_name\n",
    "from features.sig_trp import SigVanillaTensorizedRandProj, SigRBFTensorizedRandProj\n",
    "from features.random_fourier_features import RandomFourierFeatures\n",
    "\n",
    "jax.config.update('jax_platform_name', 'cpu') # Used to set the platform (cpu, gpu, etc.)\n",
    "np.set_printoptions(precision=3, threshold=5) # Print options\n",
    "\n",
    "def gen_BM(N:int, T:int, D:int, seed=0):\n",
    "    \"\"\"\n",
    "    Generate N Brownian Motions of length T with D dimensions\n",
    "    \"\"\"\n",
    "    key = jax.random.PRNGKey(seed)\n",
    "    normal = jax.random.normal(key, (N, T, D))\n",
    "    BM = jnp.cumsum(normal, axis=1)\n",
    "    return BM"
   ]
  },
  {
   "cell_type": "code",
   "execution_count": null,
   "metadata": {},
   "outputs": [],
   "source": [
    "N=10\n",
    "D=100\n",
    "rff_dim = 1020\n",
    "seed = jax.random.PRNGKey(9999)\n",
    "X = jax.random.normal(seed, (N, D))\n",
    "\n",
    "rff = RandomFourierFeatures(seed, n_features=rff_dim, sigma=1.0, max_batch=2000)\n",
    "rff.fit(X)\n",
    "feat = rff.transform(X)\n",
    "print_name(feat)"
   ]
  },
  {
   "cell_type": "code",
   "execution_count": null,
   "metadata": {},
   "outputs": [],
   "source": [
    "N=200\n",
    "T=1000\n",
    "D=10\n",
    "X = gen_BM(N, T, D)\n",
    "seed = jax.random.PRNGKey(0)\n",
    "\n",
    "max_batch=10\n",
    "trunc_level=5\n",
    "n_features=500\n",
    "\n",
    "linear_trp = SigVanillaTensorizedRandProj(seed, n_features, trunc_level, max_batch)\n",
    "linear_trp.fit(X)\n",
    "feat = linear_trp.transform(X)\n",
    "print_name(feat)"
   ]
  },
  {
   "cell_type": "code",
   "execution_count": null,
   "metadata": {},
   "outputs": [],
   "source": [
    "N=100\n",
    "max_batch = 22\n",
    "\n",
    "\n",
    "T=100\n",
    "D=10\n",
    "X = gen_BM(N, T, D)\n",
    "seed = jax.random.PRNGKey(0)\n",
    "trp_seed, rff_seed = jax.random.split(seed, 2)\n",
    "n_features = 2000\n",
    "trunc_level = 3\n",
    "rbf_dimension = 512\n",
    "sigma = 1.0\n",
    "rff_max_batch = 2000\n",
    "\n",
    "rbf_trp = SigRBFTensorizedRandProj(trp_seed, rff_seed, \n",
    "                n_features, trunc_level, rbf_dimension, \n",
    "                sigma, max_batch, rff_max_batch)\n",
    "rbf_trp.fit(X)\n",
    "\n",
    "print(\"now\\n\\n\\n\")\n",
    "feat = rbf_trp.transform(X)\n",
    "print_name(feat)"
   ]
  }
 ],
 "metadata": {
  "kernelspec": {
   "display_name": "Python 3",
   "language": "python",
   "name": "python3"
  },
  "language_info": {
   "codemirror_mode": {
    "name": "ipython",
    "version": 3
   },
   "file_extension": ".py",
   "mimetype": "text/x-python",
   "name": "python",
   "nbconvert_exporter": "python",
   "pygments_lexer": "ipython3",
   "version": "3.11.9"
  }
 },
 "nbformat": 4,
 "nbformat_minor": 2
}
