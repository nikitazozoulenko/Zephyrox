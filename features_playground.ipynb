{
 "cells": [
  {
   "cell_type": "code",
   "execution_count": 5,
   "metadata": {},
   "outputs": [],
   "source": [
    "from typing import Tuple, List, Union, Any, Optional, Dict, Literal, Callable\n",
    "\n",
    "import numpy as np\n",
    "import jax\n",
    "import jax.numpy as jnp\n",
    "import jax.lax as lax\n",
    "from jaxtyping import Array, Float, Int\n",
    "\n",
    "from utils import print_shape, print_name\n",
    "from features.sig_trp import SigVanillaTensorizedRandProj\n",
    "\n",
    "jax.config.update('jax_platform_name', 'cpu') # Used to set the platform (cpu, gpu, etc.)\n",
    "np.set_printoptions(precision=3, threshold=5) # Print options\n",
    "\n",
    "def gen_BM(N:int, T:int, D:int, seed=0):\n",
    "    \"\"\"\n",
    "    Generate N Brownian Motions of length T with D dimensions\n",
    "    \"\"\"\n",
    "    key = jax.random.PRNGKey(seed)\n",
    "    normal = jax.random.normal(key, (N, T, D))\n",
    "    BM = jnp.cumsum(normal, axis=1)\n",
    "    return BM"
   ]
  },
  {
   "cell_type": "code",
   "execution_count": 16,
   "metadata": {},
   "outputs": [
    {
     "name": "stdout",
     "output_type": "stream",
     "text": [
      "(12, 5, 2000) feat\n",
      "[[[ 2.982e-01  3.793e-01 -8.266e-01 ... -6.623e-01 -3.995e-01  4.455e-01]\n",
      "  [ 9.572e-02  1.584e-01  2.819e-01 ... -1.369e-02  2.446e-01 -1.110e-01]\n",
      "  [-1.024e-01 -3.014e-02  1.563e-01 ... -1.497e-02 -4.037e-02 -1.880e-01]\n",
      "  [-3.626e-02  6.335e-03 -4.583e-02 ...  6.939e-03 -1.852e-02 -1.751e-02]\n",
      "  [ 2.251e-02 -4.565e-03 -9.680e-03 ... -2.429e-03 -3.692e-03 -6.093e-03]]\n",
      "\n",
      " [[-6.347e-01  1.681e+00 -2.687e-01 ... -7.269e-01  3.379e-02  2.455e-01]\n",
      "  [-1.822e-01 -1.003e+00 -5.391e-01 ... -4.616e-01 -2.255e-01  4.308e-02]\n",
      "  [-4.746e-02  1.852e-01 -6.477e-04 ... -3.067e-01  3.664e-02  1.611e-03]\n",
      "  [ 1.848e-03 -3.166e-02  3.662e-03 ... -7.386e-02  1.676e-02  5.587e-03]\n",
      "  [ 3.281e-03 -9.992e-03 -1.658e-03 ...  6.911e-03 -2.730e-03  2.302e-03]]\n",
      "\n",
      " [[-4.780e-01  3.697e-01  2.827e-02 ... -1.631e-01  8.570e-01  4.148e-01]\n",
      "  [-2.142e-01 -5.473e-02  2.220e-01 ...  3.771e-02  8.302e-02 -3.224e-01]\n",
      "  [-2.613e-02  6.401e-02 -4.391e-02 ... -1.500e-02 -1.946e-02  4.867e-02]\n",
      "  [ 4.711e-03 -4.222e-03  1.149e-03 ...  5.242e-03 -4.234e-03 -6.415e-03]\n",
      "  [ 2.560e-03 -9.801e-03 -3.136e-03 ... -2.997e-04 -2.556e-03 -3.108e-03]]\n",
      "\n",
      " ...\n",
      "\n",
      " [[-5.052e-01 -1.178e-01 -5.651e-01 ... -2.399e-01  6.668e-01 -4.904e-02]\n",
      "  [ 1.343e-01  2.300e-01 -1.523e-01 ... -1.886e-01 -2.223e-01 -7.173e-02]\n",
      "  [-9.068e-02  5.649e-02  2.886e-02 ...  6.180e-02  2.818e-02  1.557e-02]\n",
      "  [-3.388e-03 -3.045e-02 -1.484e-02 ... -7.607e-03  6.673e-03 -1.601e-02]\n",
      "  [ 1.411e-02 -2.818e-04 -2.859e-03 ... -5.189e-03  4.169e-03  5.510e-03]]\n",
      "\n",
      " [[-7.072e-01 -4.014e-01  8.567e-01 ... -9.942e-01  5.020e-01 -3.587e-01]\n",
      "  [-3.697e-01 -2.432e-01  4.680e-01 ... -5.555e-01 -1.589e-01  1.461e-01]\n",
      "  [-1.872e-02 -7.034e-03  1.636e-02 ... -8.098e-02  1.793e-01 -4.452e-04]\n",
      "  [-2.367e-02 -5.258e-03 -3.379e-02 ... -7.309e-03 -4.323e-02 -1.744e-02]\n",
      "  [ 5.426e-03 -6.084e-04  1.376e-02 ...  1.328e-03 -4.440e-03 -7.195e-03]]\n",
      "\n",
      " [[-2.660e-01  5.930e-01  1.844e-02 ... -2.953e-02  6.108e-01 -2.243e-01]\n",
      "  [ 4.377e-01  1.508e-01 -1.945e-01 ... -8.864e-02  3.505e-01  1.320e-01]\n",
      "  [ 5.400e-01  1.179e-01  2.727e-01 ... -1.471e-02 -3.530e-02 -2.063e-01]\n",
      "  [ 2.712e-02  2.718e-02 -7.047e-02 ...  1.386e-02 -6.982e-03  8.508e-02]\n",
      "  [-3.829e-02 -1.411e-02 -1.143e-02 ... -5.321e-04  2.995e-03  2.759e-02]]] \n",
      "\n"
     ]
    }
   ],
   "source": [
    "N=12\n",
    "T=1000\n",
    "D=100\n",
    "X = gen_BM(N, T, D)\n",
    "\n",
    "trp = SigVanillaTensorizedRandProj(n_features=2000, trunc_level=5,\n",
    "                                   max_batch=8)\n",
    "trp.fit(X)\n",
    "feat = trp.transform(X)\n",
    "print_name(feat)"
   ]
  }
 ],
 "metadata": {
  "kernelspec": {
   "display_name": "Python 3",
   "language": "python",
   "name": "python3"
  },
  "language_info": {
   "codemirror_mode": {
    "name": "ipython",
    "version": 3
   },
   "file_extension": ".py",
   "mimetype": "text/x-python",
   "name": "python",
   "nbconvert_exporter": "python",
   "pygments_lexer": "ipython3",
   "version": "3.11.8"
  }
 },
 "nbformat": 4,
 "nbformat_minor": 2
}
