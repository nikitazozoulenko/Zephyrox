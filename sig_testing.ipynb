{
 "cells": [
  {
   "cell_type": "code",
   "execution_count": 4,
   "metadata": {},
   "outputs": [],
   "source": [
    "import iisignature\n",
    "import numpy as np"
   ]
  },
  {
   "cell_type": "markdown",
   "metadata": {},
   "source": [
    "Is\n",
    "\n",
    "$ E[[\\langle w, S(X)\\rangle - p]^+] = [\\langle w- p1, E S(X)\\rangle]^+ ?$"
   ]
  },
  {
   "cell_type": "code",
   "execution_count": null,
   "metadata": {},
   "outputs": [],
   "source": [
    "order = 10\n",
    "X = np.random.rand(100, 50, 2)  #N T D\n",
    "S = iisignature.sig(X, order)\n",
    "ES = np.mean(S, axis=0)\n",
    "print(S.shape, \"example\", S[0])\n"
   ]
  },
  {
   "cell_type": "code",
   "execution_count": null,
   "metadata": {},
   "outputs": [],
   "source": [
    "w = np.random.randn( S.shape[-1] )\n",
    "print(\"w\", w.shape, w)\n",
    "p = 0.4"
   ]
  },
  {
   "cell_type": "code",
   "execution_count": null,
   "metadata": {},
   "outputs": [],
   "source": [
    "# first expectation\n",
    "E = np.dot(S, w) - p\n",
    "#E = np.maximum(0, E)\n",
    "print(E.shape, E)\n",
    "E = E.mean(axis=0)\n",
    "print(\"mean\", E)"
   ]
  },
  {
   "cell_type": "code",
   "execution_count": null,
   "metadata": {},
   "outputs": [],
   "source": [
    "# first expectation\n",
    "E = np.dot(S, w) - p\n",
    "E = np.maximum(0, E)\n",
    "print(E.shape, E)\n",
    "E = E.mean(axis=0)\n",
    "print(\"mean\", E)"
   ]
  },
  {
   "cell_type": "code",
   "execution_count": null,
   "metadata": {},
   "outputs": [],
   "source": [
    "# second expectation\n",
    "print(ES)\n",
    "print(w)\n",
    "E2 = np.dot(ES, w) - p\n",
    "print(\"mean2\", E2)"
   ]
  },
  {
   "cell_type": "code",
   "execution_count": 12,
   "metadata": {},
   "outputs": [
    {
     "name": "stdout",
     "output_type": "stream",
     "text": [
      "1.0\n",
      "1.5\n",
      "1.875\n",
      "2.1875\n",
      "2.4609375\n",
      "2.70703125\n",
      "2.9326171875\n",
      "3.14208984375\n",
      "3.338470458984375\n",
      "3.5239410400390625\n",
      "3.7001380920410156\n",
      "3.868326187133789\n",
      "4.02950644493103\n",
      "4.184487462043762\n",
      "4.333933442831039\n",
      "4.478397890925407\n",
      "4.618347825016826\n",
      "4.754181584576145\n",
      "4.886242184147704\n",
      "5.01482750478317\n",
      "5.1401981924027496\n",
      "5.262583863650434\n",
      "5.382188042369762\n",
      "5.499192130247366\n",
      "5.613758632960852\n"
     ]
    }
   ],
   "source": [
    "import functools\n",
    "\n",
    "@functools.cache\n",
    "def f(l,r):\n",
    "    if l==0:\n",
    "        return 0\n",
    "    if r==0:\n",
    "        return 0\n",
    "    return 1 + (f(l-1, r) + f(l, r-1))/2\n",
    "\n",
    "for i in range(1, 25+1):\n",
    "    print(i+i - f(i,i))"
   ]
  },
  {
   "cell_type": "code",
   "execution_count": 13,
   "metadata": {},
   "outputs": [
    {
     "name": "stdout",
     "output_type": "stream",
     "text": [
      "0.34210526315789475 0.3421052631578949\n"
     ]
    }
   ],
   "source": [
    "import functools\n",
    "\n",
    "#I'm dealing a deck of poker, you can stop me anytime. If the next card is red, you win. Otherwise you lose. What's optimal strategy and the probability of winning ?\n",
    "@functools.cache\n",
    "def W(r,b):\n",
    "    if r==0:\n",
    "        return 0\n",
    "    if b==0:\n",
    "        return 1\n",
    "    \n",
    "    draw_r = r/(r+b)\n",
    "    return max(draw_r, draw_r * W(r-1, b) + (1-draw_r)* W(r, b-1))\n",
    "\n",
    "r = 26\n",
    "b = 50\n",
    "print(r/(r+b), W(r,b))"
   ]
  },
  {
   "cell_type": "code",
   "execution_count": null,
   "metadata": {},
   "outputs": [],
   "source": [
    "import functools\n",
    "\n",
    "#same as above, but we get to guess the color of the next card. If we guess right, we win. Otherwise we lose. Whats the optimal strategy and the probability of winning ?\n",
    "@functools.cache\n",
    "def W(r,b):\n",
    "    if r==0:\n",
    "        return 0\n",
    "    if b==0:\n",
    "        return 1\n",
    "    \n",
    "    draw_r = r/(r+b)\n",
    "    return max(draw_r, draw_r * W(r-1, b) + (1-draw_r)* W(r, b-1))\n",
    "\n",
    "r = 26\n",
    "b = 50\n",
    "print(r/(r+b), W(r,b))"
   ]
  },
  {
   "cell_type": "code",
   "execution_count": 34,
   "metadata": {},
   "outputs": [
    {
     "name": "stdout",
     "output_type": "stream",
     "text": [
      "1.060280061883251\n"
     ]
    }
   ],
   "source": [
    "import functools\n",
    "\n",
    "@functools.cache\n",
    "def g(r,b): # gain 1 for each red, 0 for each black\n",
    "    if r==0:\n",
    "        return 0\n",
    "    if b==0:\n",
    "        return r\n",
    "    \n",
    "    draw_r = r/(r+b)\n",
    "    return max(0, draw_r * (1+g(r-1, b)) + (1-draw_r)*(-1 + g(r,b-1)))\n",
    "r = 500\n",
    "b = 520\n",
    "print(g(r,b))"
   ]
  },
  {
   "cell_type": "code",
   "execution_count": 40,
   "metadata": {},
   "outputs": [
    {
     "name": "stdout",
     "output_type": "stream",
     "text": [
      "402387260077093773543702433923003985719374864210714632543799910429938512398629020592044208486969404800479988610197196058631666872994808558901323829669944590997424504087073759918823627727188732519779505950995276120874975462497043601418278094646496291056393887437886487337119181045825783647849977012476632889835955735432513185323958463075557409114262417474349347553428646576611667797396668820291207379143853719588249808126867838374559731746136085379534524221586593201928090878297308431392844403281231558611036976801357304216168747609675871348312025478589320767169132448426236131412508780208000261683151027341827977704784635868170164365024153691398281264810213092761244896359928705114964975419909342221566832572080821333186116811553615836546984046708975602900950537616475847728421889679646244945160765353408198901385442487984959953319101723355556602139450399736280750137837615307127761926849034352625200015888535147331611702103968175921510907788019393178114194545257223865541461062892187960223838971476088506276862967146674697562911234082439208160153780889893964518263243671616762179168909779911903754031274622289988005195444414282012187361745992642956581746628302955570299024324153181617210465832036786906117260158783520751516284225540265170483304226143974286933061690897968482590125458327168226458066526769958652682272807075781391858178889652208164348344825993266043367660176999612831860788386150279465955131156552036093988180612138558600301435694527224206344631797460594682573103790084024432438465657245014402821885252470935190620929023136493273497565513958720559654228749774011413346962715422845862377387538230483865688976461927383814900140767310446640259899490222221765904339901886018566526485061799702356193897017860040811889729918311021171229845901641921068884387121855646124960798722908519296819372388642614839657382291123125024186649353143970137428531926649875337218940694281434118520158014123344828015051399694290153483077644569099073152433278288269864602789864321139083506217095002597389863554277196742822248757586765752344220207573630569498825087968928162753848863396909959826280956121450994871701244516461260379029309120889086942028510640182154399457156805941872748998094254742173582401063677404595741785160829230135358081840096996372524230560855903700624271243416909004153690105933983835777939410970027753472000000000000000000000000000000000000000000000000000000000000000000000000000000000000000000000000000000000000000000000000000000000000000000000000000000000000000000000000000000000000000000000000000000000000000000000000000000000000000000000000000000000\n",
      "2568\n",
      "249\n",
      "472\n",
      "249\n"
     ]
    }
   ],
   "source": [
    "# how many 0s are there in 1000! (factorial) ?\n",
    "import math\n",
    "print(math.factorial(1000))\n",
    "print(len(str(math.factorial(1000))))\n",
    "print(len(str(math.factorial(1000))) - len(str(math.factorial(1000)).rstrip('0')))\n",
    "print(sum(1 for i in str(math.factorial(1000)) if i == '0')) #0s in the middle of the string... not trailing 0s\n",
    "\n",
    "print(1000//5 + 1000//25 + 1000//125 + 1000//625)\n"
   ]
  }
 ],
 "metadata": {
  "kernelspec": {
   "display_name": "Python 3",
   "language": "python",
   "name": "python3"
  },
  "language_info": {
   "codemirror_mode": {
    "name": "ipython",
    "version": 3
   },
   "file_extension": ".py",
   "mimetype": "text/x-python",
   "name": "python",
   "nbconvert_exporter": "python",
   "pygments_lexer": "ipython3",
   "version": "3.10.14"
  }
 },
 "nbformat": 4,
 "nbformat_minor": 2
}
